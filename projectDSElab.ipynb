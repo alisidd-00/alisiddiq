{
  "nbformat": 4,
  "nbformat_minor": 0,
  "metadata": {
    "colab": {
      "provenance": [],
      "authorship_tag": "ABX9TyNIBAU6nmnRo/jdncJnUdnH",
      "include_colab_link": true
    },
    "kernelspec": {
      "name": "python3",
      "display_name": "Python 3"
    },
    "language_info": {
      "name": "python"
    }
  },
  "cells": [
    {
      "cell_type": "markdown",
      "metadata": {
        "id": "view-in-github",
        "colab_type": "text"
      },
      "source": [
        "<a href=\"https://colab.research.google.com/github/alisidd-00/alisiddiq/blob/main/projectDSElab.ipynb\" target=\"_parent\"><img src=\"https://colab.research.google.com/assets/colab-badge.svg\" alt=\"Open In Colab\"/></a>"
      ]
    },
    {
      "cell_type": "markdown",
      "source": [
        "**IMPORTING RELEVANT LIBRARIES**"
      ],
      "metadata": {
        "id": "4SxwAZB0zj2J"
      }
    },
    {
      "cell_type": "code",
      "execution_count": null,
      "metadata": {
        "id": "5nZ-FNlphrps"
      },
      "outputs": [],
      "source": [
        "import pandas as pd\n",
        "import numpy as np\n",
        "import matplotlib.pyplot as plt\n",
        "import seaborn as sns\n",
        "from sklearn.decomposition import PCA\n",
        "from sklearn.preprocessing import StandardScaler\n",
        "from sklearn.preprocessing import OrdinalEncoder\n",
        "import joblib\n",
        "import sys\n",
        "sys.modules['sklearn.externals.joblib'] = joblib\n",
        "from mlxtend.feature_selection import SequentialFeatureSelector as SFS\n",
        "from sklearn.linear_model import LinearRegression\n",
        "from sklearn.feature_selection import RFE\n",
        "from sklearn import preprocessing, svm\n",
        "from sklearn.model_selection import train_test_split\n",
        "from sklearn.metrics import r2_score\n",
        "from sklearn.metrics import mean_squared_error\n",
        "from sklearn.metrics import max_error\n",
        "\n"
      ]
    },
    {
      "cell_type": "markdown",
      "source": [
        "**READING CSV FILE**"
      ],
      "metadata": {
        "id": "ccwZ-A84znia"
      }
    },
    {
      "cell_type": "code",
      "source": [
        "df=pd.read_csv('/content/song_data (G8) - song_data (G8).csv')\n",
        "df.info()"
      ],
      "metadata": {
        "colab": {
          "base_uri": "https://localhost:8080/"
        },
        "id": "JLQg21viiOXp",
        "outputId": "c3894e08-e5e4-4b5d-f26d-850a6c42d94d"
      },
      "execution_count": null,
      "outputs": [
        {
          "output_type": "stream",
          "name": "stdout",
          "text": [
            "<class 'pandas.core.frame.DataFrame'>\n",
            "RangeIndex: 18835 entries, 0 to 18834\n",
            "Data columns (total 15 columns):\n",
            " #   Column            Non-Null Count  Dtype  \n",
            "---  ------            --------------  -----  \n",
            " 0   song_name         18835 non-null  object \n",
            " 1   song_popularity   18835 non-null  int64  \n",
            " 2   song_duration_ms  18835 non-null  int64  \n",
            " 3   acousticness      18835 non-null  float64\n",
            " 4   danceability      18835 non-null  float64\n",
            " 5   energy            18835 non-null  float64\n",
            " 6   instrumentalness  18835 non-null  float64\n",
            " 7   key               18835 non-null  int64  \n",
            " 8   liveness          18835 non-null  float64\n",
            " 9   loudness          18835 non-null  float64\n",
            " 10  audio_mode        18835 non-null  int64  \n",
            " 11  speechiness       18835 non-null  float64\n",
            " 12  tempo             18835 non-null  float64\n",
            " 13  time_signature    18835 non-null  int64  \n",
            " 14  audio_valence     18835 non-null  float64\n",
            "dtypes: float64(9), int64(5), object(1)\n",
            "memory usage: 2.2+ MB\n"
          ]
        }
      ]
    },
    {
      "cell_type": "code",
      "source": [
        "df.shape"
      ],
      "metadata": {
        "colab": {
          "base_uri": "https://localhost:8080/"
        },
        "id": "goixtv9IjKYn",
        "outputId": "879ee5ea-bca2-44e1-9626-75f96d13aaa9"
      },
      "execution_count": null,
      "outputs": [
        {
          "output_type": "execute_result",
          "data": {
            "text/plain": [
              "(18835, 15)"
            ]
          },
          "metadata": {},
          "execution_count": 4
        }
      ]
    },
    {
      "cell_type": "markdown",
      "source": [
        "**CHECKING NULL VALUES**"
      ],
      "metadata": {
        "id": "MLRMNa34zryv"
      }
    },
    {
      "cell_type": "code",
      "source": [
        "df.isnull().sum()"
      ],
      "metadata": {
        "colab": {
          "base_uri": "https://localhost:8080/"
        },
        "id": "x_k_pqOIi1GN",
        "outputId": "498d391d-d540-4b70-a037-1f53a83cc631"
      },
      "execution_count": null,
      "outputs": [
        {
          "output_type": "execute_result",
          "data": {
            "text/plain": [
              "song_name           0\n",
              "song_popularity     0\n",
              "song_duration_ms    0\n",
              "acousticness        0\n",
              "danceability        0\n",
              "energy              0\n",
              "instrumentalness    0\n",
              "key                 0\n",
              "liveness            0\n",
              "loudness            0\n",
              "audio_mode          0\n",
              "speechiness         0\n",
              "tempo               0\n",
              "time_signature      0\n",
              "audio_valence       0\n",
              "dtype: int64"
            ]
          },
          "metadata": {},
          "execution_count": 5
        }
      ]
    },
    {
      "cell_type": "markdown",
      "source": [
        "**CHECKING PROPERTIES OF DATASET**"
      ],
      "metadata": {
        "id": "p7YY0JT3z2PO"
      }
    },
    {
      "cell_type": "code",
      "source": [
        "df.describe()"
      ],
      "metadata": {
        "colab": {
          "base_uri": "https://localhost:8080/",
          "height": 364
        },
        "id": "2GC_vmP0i6Qx",
        "outputId": "e4222716-ff53-4201-ef12-38ceda0ade97"
      },
      "execution_count": null,
      "outputs": [
        {
          "output_type": "execute_result",
          "data": {
            "text/plain": [
              "       song_popularity  song_duration_ms  acousticness  danceability  \\\n",
              "count     18835.000000      1.883500e+04  18835.000000  18835.000000   \n",
              "mean         52.991877      2.182116e+05      0.258539      0.633348   \n",
              "std          21.905654      5.988754e+04      0.288719      0.156723   \n",
              "min           0.000000      1.200000e+04      0.000001      0.000000   \n",
              "25%          40.000000      1.843395e+05      0.024100      0.533000   \n",
              "50%          56.000000      2.113060e+05      0.132000      0.645000   \n",
              "75%          69.000000      2.428440e+05      0.424000      0.748000   \n",
              "max         100.000000      1.799346e+06      0.996000      0.987000   \n",
              "\n",
              "             energy  instrumentalness           key      liveness  \\\n",
              "count  18835.000000      18835.000000  18835.000000  18835.000000   \n",
              "mean       0.644995          0.078008      5.289196      0.179650   \n",
              "std        0.214101          0.221591      3.614595      0.143984   \n",
              "min        0.001070          0.000000      0.000000      0.010900   \n",
              "25%        0.510000          0.000000      2.000000      0.092900   \n",
              "50%        0.674000          0.000011      5.000000      0.122000   \n",
              "75%        0.815000          0.002570      8.000000      0.221000   \n",
              "max        0.999000          0.997000     11.000000      0.986000   \n",
              "\n",
              "           loudness    audio_mode   speechiness         tempo  time_signature  \\\n",
              "count  18835.000000  18835.000000  18835.000000  18835.000000    18835.000000   \n",
              "mean      -7.447435      0.628139      0.102099    121.073154        3.959119   \n",
              "std        3.827831      0.483314      0.104378     28.714456        0.298533   \n",
              "min      -38.768000      0.000000      0.000000      0.000000        0.000000   \n",
              "25%       -9.044000      0.000000      0.037800     98.368000        4.000000   \n",
              "50%       -6.555000      1.000000      0.055500    120.013000        4.000000   \n",
              "75%       -4.908000      1.000000      0.119000    139.931000        4.000000   \n",
              "max        1.585000      1.000000      0.941000    242.318000        5.000000   \n",
              "\n",
              "       audio_valence  \n",
              "count   18835.000000  \n",
              "mean        0.527967  \n",
              "std         0.244632  \n",
              "min         0.000000  \n",
              "25%         0.335000  \n",
              "50%         0.527000  \n",
              "75%         0.725000  \n",
              "max         0.984000  "
            ],
            "text/html": [
              "\n",
              "  <div id=\"df-d991efd9-57ac-4b64-83c9-7f11020c9376\">\n",
              "    <div class=\"colab-df-container\">\n",
              "      <div>\n",
              "<style scoped>\n",
              "    .dataframe tbody tr th:only-of-type {\n",
              "        vertical-align: middle;\n",
              "    }\n",
              "\n",
              "    .dataframe tbody tr th {\n",
              "        vertical-align: top;\n",
              "    }\n",
              "\n",
              "    .dataframe thead th {\n",
              "        text-align: right;\n",
              "    }\n",
              "</style>\n",
              "<table border=\"1\" class=\"dataframe\">\n",
              "  <thead>\n",
              "    <tr style=\"text-align: right;\">\n",
              "      <th></th>\n",
              "      <th>song_popularity</th>\n",
              "      <th>song_duration_ms</th>\n",
              "      <th>acousticness</th>\n",
              "      <th>danceability</th>\n",
              "      <th>energy</th>\n",
              "      <th>instrumentalness</th>\n",
              "      <th>key</th>\n",
              "      <th>liveness</th>\n",
              "      <th>loudness</th>\n",
              "      <th>audio_mode</th>\n",
              "      <th>speechiness</th>\n",
              "      <th>tempo</th>\n",
              "      <th>time_signature</th>\n",
              "      <th>audio_valence</th>\n",
              "    </tr>\n",
              "  </thead>\n",
              "  <tbody>\n",
              "    <tr>\n",
              "      <th>count</th>\n",
              "      <td>18835.000000</td>\n",
              "      <td>1.883500e+04</td>\n",
              "      <td>18835.000000</td>\n",
              "      <td>18835.000000</td>\n",
              "      <td>18835.000000</td>\n",
              "      <td>18835.000000</td>\n",
              "      <td>18835.000000</td>\n",
              "      <td>18835.000000</td>\n",
              "      <td>18835.000000</td>\n",
              "      <td>18835.000000</td>\n",
              "      <td>18835.000000</td>\n",
              "      <td>18835.000000</td>\n",
              "      <td>18835.000000</td>\n",
              "      <td>18835.000000</td>\n",
              "    </tr>\n",
              "    <tr>\n",
              "      <th>mean</th>\n",
              "      <td>52.991877</td>\n",
              "      <td>2.182116e+05</td>\n",
              "      <td>0.258539</td>\n",
              "      <td>0.633348</td>\n",
              "      <td>0.644995</td>\n",
              "      <td>0.078008</td>\n",
              "      <td>5.289196</td>\n",
              "      <td>0.179650</td>\n",
              "      <td>-7.447435</td>\n",
              "      <td>0.628139</td>\n",
              "      <td>0.102099</td>\n",
              "      <td>121.073154</td>\n",
              "      <td>3.959119</td>\n",
              "      <td>0.527967</td>\n",
              "    </tr>\n",
              "    <tr>\n",
              "      <th>std</th>\n",
              "      <td>21.905654</td>\n",
              "      <td>5.988754e+04</td>\n",
              "      <td>0.288719</td>\n",
              "      <td>0.156723</td>\n",
              "      <td>0.214101</td>\n",
              "      <td>0.221591</td>\n",
              "      <td>3.614595</td>\n",
              "      <td>0.143984</td>\n",
              "      <td>3.827831</td>\n",
              "      <td>0.483314</td>\n",
              "      <td>0.104378</td>\n",
              "      <td>28.714456</td>\n",
              "      <td>0.298533</td>\n",
              "      <td>0.244632</td>\n",
              "    </tr>\n",
              "    <tr>\n",
              "      <th>min</th>\n",
              "      <td>0.000000</td>\n",
              "      <td>1.200000e+04</td>\n",
              "      <td>0.000001</td>\n",
              "      <td>0.000000</td>\n",
              "      <td>0.001070</td>\n",
              "      <td>0.000000</td>\n",
              "      <td>0.000000</td>\n",
              "      <td>0.010900</td>\n",
              "      <td>-38.768000</td>\n",
              "      <td>0.000000</td>\n",
              "      <td>0.000000</td>\n",
              "      <td>0.000000</td>\n",
              "      <td>0.000000</td>\n",
              "      <td>0.000000</td>\n",
              "    </tr>\n",
              "    <tr>\n",
              "      <th>25%</th>\n",
              "      <td>40.000000</td>\n",
              "      <td>1.843395e+05</td>\n",
              "      <td>0.024100</td>\n",
              "      <td>0.533000</td>\n",
              "      <td>0.510000</td>\n",
              "      <td>0.000000</td>\n",
              "      <td>2.000000</td>\n",
              "      <td>0.092900</td>\n",
              "      <td>-9.044000</td>\n",
              "      <td>0.000000</td>\n",
              "      <td>0.037800</td>\n",
              "      <td>98.368000</td>\n",
              "      <td>4.000000</td>\n",
              "      <td>0.335000</td>\n",
              "    </tr>\n",
              "    <tr>\n",
              "      <th>50%</th>\n",
              "      <td>56.000000</td>\n",
              "      <td>2.113060e+05</td>\n",
              "      <td>0.132000</td>\n",
              "      <td>0.645000</td>\n",
              "      <td>0.674000</td>\n",
              "      <td>0.000011</td>\n",
              "      <td>5.000000</td>\n",
              "      <td>0.122000</td>\n",
              "      <td>-6.555000</td>\n",
              "      <td>1.000000</td>\n",
              "      <td>0.055500</td>\n",
              "      <td>120.013000</td>\n",
              "      <td>4.000000</td>\n",
              "      <td>0.527000</td>\n",
              "    </tr>\n",
              "    <tr>\n",
              "      <th>75%</th>\n",
              "      <td>69.000000</td>\n",
              "      <td>2.428440e+05</td>\n",
              "      <td>0.424000</td>\n",
              "      <td>0.748000</td>\n",
              "      <td>0.815000</td>\n",
              "      <td>0.002570</td>\n",
              "      <td>8.000000</td>\n",
              "      <td>0.221000</td>\n",
              "      <td>-4.908000</td>\n",
              "      <td>1.000000</td>\n",
              "      <td>0.119000</td>\n",
              "      <td>139.931000</td>\n",
              "      <td>4.000000</td>\n",
              "      <td>0.725000</td>\n",
              "    </tr>\n",
              "    <tr>\n",
              "      <th>max</th>\n",
              "      <td>100.000000</td>\n",
              "      <td>1.799346e+06</td>\n",
              "      <td>0.996000</td>\n",
              "      <td>0.987000</td>\n",
              "      <td>0.999000</td>\n",
              "      <td>0.997000</td>\n",
              "      <td>11.000000</td>\n",
              "      <td>0.986000</td>\n",
              "      <td>1.585000</td>\n",
              "      <td>1.000000</td>\n",
              "      <td>0.941000</td>\n",
              "      <td>242.318000</td>\n",
              "      <td>5.000000</td>\n",
              "      <td>0.984000</td>\n",
              "    </tr>\n",
              "  </tbody>\n",
              "</table>\n",
              "</div>\n",
              "      <button class=\"colab-df-convert\" onclick=\"convertToInteractive('df-d991efd9-57ac-4b64-83c9-7f11020c9376')\"\n",
              "              title=\"Convert this dataframe to an interactive table.\"\n",
              "              style=\"display:none;\">\n",
              "        \n",
              "  <svg xmlns=\"http://www.w3.org/2000/svg\" height=\"24px\"viewBox=\"0 0 24 24\"\n",
              "       width=\"24px\">\n",
              "    <path d=\"M0 0h24v24H0V0z\" fill=\"none\"/>\n",
              "    <path d=\"M18.56 5.44l.94 2.06.94-2.06 2.06-.94-2.06-.94-.94-2.06-.94 2.06-2.06.94zm-11 1L8.5 8.5l.94-2.06 2.06-.94-2.06-.94L8.5 2.5l-.94 2.06-2.06.94zm10 10l.94 2.06.94-2.06 2.06-.94-2.06-.94-.94-2.06-.94 2.06-2.06.94z\"/><path d=\"M17.41 7.96l-1.37-1.37c-.4-.4-.92-.59-1.43-.59-.52 0-1.04.2-1.43.59L10.3 9.45l-7.72 7.72c-.78.78-.78 2.05 0 2.83L4 21.41c.39.39.9.59 1.41.59.51 0 1.02-.2 1.41-.59l7.78-7.78 2.81-2.81c.8-.78.8-2.07 0-2.86zM5.41 20L4 18.59l7.72-7.72 1.47 1.35L5.41 20z\"/>\n",
              "  </svg>\n",
              "      </button>\n",
              "      \n",
              "  <style>\n",
              "    .colab-df-container {\n",
              "      display:flex;\n",
              "      flex-wrap:wrap;\n",
              "      gap: 12px;\n",
              "    }\n",
              "\n",
              "    .colab-df-convert {\n",
              "      background-color: #E8F0FE;\n",
              "      border: none;\n",
              "      border-radius: 50%;\n",
              "      cursor: pointer;\n",
              "      display: none;\n",
              "      fill: #1967D2;\n",
              "      height: 32px;\n",
              "      padding: 0 0 0 0;\n",
              "      width: 32px;\n",
              "    }\n",
              "\n",
              "    .colab-df-convert:hover {\n",
              "      background-color: #E2EBFA;\n",
              "      box-shadow: 0px 1px 2px rgba(60, 64, 67, 0.3), 0px 1px 3px 1px rgba(60, 64, 67, 0.15);\n",
              "      fill: #174EA6;\n",
              "    }\n",
              "\n",
              "    [theme=dark] .colab-df-convert {\n",
              "      background-color: #3B4455;\n",
              "      fill: #D2E3FC;\n",
              "    }\n",
              "\n",
              "    [theme=dark] .colab-df-convert:hover {\n",
              "      background-color: #434B5C;\n",
              "      box-shadow: 0px 1px 3px 1px rgba(0, 0, 0, 0.15);\n",
              "      filter: drop-shadow(0px 1px 2px rgba(0, 0, 0, 0.3));\n",
              "      fill: #FFFFFF;\n",
              "    }\n",
              "  </style>\n",
              "\n",
              "      <script>\n",
              "        const buttonEl =\n",
              "          document.querySelector('#df-d991efd9-57ac-4b64-83c9-7f11020c9376 button.colab-df-convert');\n",
              "        buttonEl.style.display =\n",
              "          google.colab.kernel.accessAllowed ? 'block' : 'none';\n",
              "\n",
              "        async function convertToInteractive(key) {\n",
              "          const element = document.querySelector('#df-d991efd9-57ac-4b64-83c9-7f11020c9376');\n",
              "          const dataTable =\n",
              "            await google.colab.kernel.invokeFunction('convertToInteractive',\n",
              "                                                     [key], {});\n",
              "          if (!dataTable) return;\n",
              "\n",
              "          const docLinkHtml = 'Like what you see? Visit the ' +\n",
              "            '<a target=\"_blank\" href=https://colab.research.google.com/notebooks/data_table.ipynb>data table notebook</a>'\n",
              "            + ' to learn more about interactive tables.';\n",
              "          element.innerHTML = '';\n",
              "          dataTable['output_type'] = 'display_data';\n",
              "          await google.colab.output.renderOutput(dataTable, element);\n",
              "          const docLink = document.createElement('div');\n",
              "          docLink.innerHTML = docLinkHtml;\n",
              "          element.appendChild(docLink);\n",
              "        }\n",
              "      </script>\n",
              "    </div>\n",
              "  </div>\n",
              "  "
            ]
          },
          "metadata": {},
          "execution_count": 6
        }
      ]
    },
    {
      "cell_type": "code",
      "source": [
        "df.head()"
      ],
      "metadata": {
        "colab": {
          "base_uri": "https://localhost:8080/",
          "height": 392
        },
        "id": "CpMM2WLejN9f",
        "outputId": "f8380582-256c-4389-cd69-0f94d588884f"
      },
      "execution_count": null,
      "outputs": [
        {
          "output_type": "execute_result",
          "data": {
            "text/plain": [
              "                    song_name  song_popularity  song_duration_ms  \\\n",
              "0  Boulevard of Broken Dreams               73            262333   \n",
              "1                  In The End               66            216933   \n",
              "2           Seven Nation Army               76            231733   \n",
              "3                  By The Way               74            216933   \n",
              "4           How You Remind Me               56            223826   \n",
              "\n",
              "   acousticness  danceability  energy  instrumentalness  key  liveness  \\\n",
              "0      0.005520         0.496   0.682          0.000029    8    0.0589   \n",
              "1      0.010300         0.542   0.853          0.000000    3    0.1080   \n",
              "2      0.008170         0.737   0.463          0.447000    0    0.2550   \n",
              "3      0.026400         0.451   0.970          0.003550    0    0.1020   \n",
              "4      0.000954         0.447   0.766          0.000000   10    0.1130   \n",
              "\n",
              "   loudness  audio_mode  speechiness    tempo  time_signature  audio_valence  \n",
              "0    -4.095           1       0.0294  167.060               4          0.474  \n",
              "1    -6.407           0       0.0498  105.256               4          0.370  \n",
              "2    -7.828           1       0.0792  123.881               4          0.324  \n",
              "3    -4.938           1       0.1070  122.444               4          0.198  \n",
              "4    -5.065           1       0.0313  172.011               4          0.574  "
            ],
            "text/html": [
              "\n",
              "  <div id=\"df-f7a1b11f-cc4d-445b-9a7a-0ec5b3026378\">\n",
              "    <div class=\"colab-df-container\">\n",
              "      <div>\n",
              "<style scoped>\n",
              "    .dataframe tbody tr th:only-of-type {\n",
              "        vertical-align: middle;\n",
              "    }\n",
              "\n",
              "    .dataframe tbody tr th {\n",
              "        vertical-align: top;\n",
              "    }\n",
              "\n",
              "    .dataframe thead th {\n",
              "        text-align: right;\n",
              "    }\n",
              "</style>\n",
              "<table border=\"1\" class=\"dataframe\">\n",
              "  <thead>\n",
              "    <tr style=\"text-align: right;\">\n",
              "      <th></th>\n",
              "      <th>song_name</th>\n",
              "      <th>song_popularity</th>\n",
              "      <th>song_duration_ms</th>\n",
              "      <th>acousticness</th>\n",
              "      <th>danceability</th>\n",
              "      <th>energy</th>\n",
              "      <th>instrumentalness</th>\n",
              "      <th>key</th>\n",
              "      <th>liveness</th>\n",
              "      <th>loudness</th>\n",
              "      <th>audio_mode</th>\n",
              "      <th>speechiness</th>\n",
              "      <th>tempo</th>\n",
              "      <th>time_signature</th>\n",
              "      <th>audio_valence</th>\n",
              "    </tr>\n",
              "  </thead>\n",
              "  <tbody>\n",
              "    <tr>\n",
              "      <th>0</th>\n",
              "      <td>Boulevard of Broken Dreams</td>\n",
              "      <td>73</td>\n",
              "      <td>262333</td>\n",
              "      <td>0.005520</td>\n",
              "      <td>0.496</td>\n",
              "      <td>0.682</td>\n",
              "      <td>0.000029</td>\n",
              "      <td>8</td>\n",
              "      <td>0.0589</td>\n",
              "      <td>-4.095</td>\n",
              "      <td>1</td>\n",
              "      <td>0.0294</td>\n",
              "      <td>167.060</td>\n",
              "      <td>4</td>\n",
              "      <td>0.474</td>\n",
              "    </tr>\n",
              "    <tr>\n",
              "      <th>1</th>\n",
              "      <td>In The End</td>\n",
              "      <td>66</td>\n",
              "      <td>216933</td>\n",
              "      <td>0.010300</td>\n",
              "      <td>0.542</td>\n",
              "      <td>0.853</td>\n",
              "      <td>0.000000</td>\n",
              "      <td>3</td>\n",
              "      <td>0.1080</td>\n",
              "      <td>-6.407</td>\n",
              "      <td>0</td>\n",
              "      <td>0.0498</td>\n",
              "      <td>105.256</td>\n",
              "      <td>4</td>\n",
              "      <td>0.370</td>\n",
              "    </tr>\n",
              "    <tr>\n",
              "      <th>2</th>\n",
              "      <td>Seven Nation Army</td>\n",
              "      <td>76</td>\n",
              "      <td>231733</td>\n",
              "      <td>0.008170</td>\n",
              "      <td>0.737</td>\n",
              "      <td>0.463</td>\n",
              "      <td>0.447000</td>\n",
              "      <td>0</td>\n",
              "      <td>0.2550</td>\n",
              "      <td>-7.828</td>\n",
              "      <td>1</td>\n",
              "      <td>0.0792</td>\n",
              "      <td>123.881</td>\n",
              "      <td>4</td>\n",
              "      <td>0.324</td>\n",
              "    </tr>\n",
              "    <tr>\n",
              "      <th>3</th>\n",
              "      <td>By The Way</td>\n",
              "      <td>74</td>\n",
              "      <td>216933</td>\n",
              "      <td>0.026400</td>\n",
              "      <td>0.451</td>\n",
              "      <td>0.970</td>\n",
              "      <td>0.003550</td>\n",
              "      <td>0</td>\n",
              "      <td>0.1020</td>\n",
              "      <td>-4.938</td>\n",
              "      <td>1</td>\n",
              "      <td>0.1070</td>\n",
              "      <td>122.444</td>\n",
              "      <td>4</td>\n",
              "      <td>0.198</td>\n",
              "    </tr>\n",
              "    <tr>\n",
              "      <th>4</th>\n",
              "      <td>How You Remind Me</td>\n",
              "      <td>56</td>\n",
              "      <td>223826</td>\n",
              "      <td>0.000954</td>\n",
              "      <td>0.447</td>\n",
              "      <td>0.766</td>\n",
              "      <td>0.000000</td>\n",
              "      <td>10</td>\n",
              "      <td>0.1130</td>\n",
              "      <td>-5.065</td>\n",
              "      <td>1</td>\n",
              "      <td>0.0313</td>\n",
              "      <td>172.011</td>\n",
              "      <td>4</td>\n",
              "      <td>0.574</td>\n",
              "    </tr>\n",
              "  </tbody>\n",
              "</table>\n",
              "</div>\n",
              "      <button class=\"colab-df-convert\" onclick=\"convertToInteractive('df-f7a1b11f-cc4d-445b-9a7a-0ec5b3026378')\"\n",
              "              title=\"Convert this dataframe to an interactive table.\"\n",
              "              style=\"display:none;\">\n",
              "        \n",
              "  <svg xmlns=\"http://www.w3.org/2000/svg\" height=\"24px\"viewBox=\"0 0 24 24\"\n",
              "       width=\"24px\">\n",
              "    <path d=\"M0 0h24v24H0V0z\" fill=\"none\"/>\n",
              "    <path d=\"M18.56 5.44l.94 2.06.94-2.06 2.06-.94-2.06-.94-.94-2.06-.94 2.06-2.06.94zm-11 1L8.5 8.5l.94-2.06 2.06-.94-2.06-.94L8.5 2.5l-.94 2.06-2.06.94zm10 10l.94 2.06.94-2.06 2.06-.94-2.06-.94-.94-2.06-.94 2.06-2.06.94z\"/><path d=\"M17.41 7.96l-1.37-1.37c-.4-.4-.92-.59-1.43-.59-.52 0-1.04.2-1.43.59L10.3 9.45l-7.72 7.72c-.78.78-.78 2.05 0 2.83L4 21.41c.39.39.9.59 1.41.59.51 0 1.02-.2 1.41-.59l7.78-7.78 2.81-2.81c.8-.78.8-2.07 0-2.86zM5.41 20L4 18.59l7.72-7.72 1.47 1.35L5.41 20z\"/>\n",
              "  </svg>\n",
              "      </button>\n",
              "      \n",
              "  <style>\n",
              "    .colab-df-container {\n",
              "      display:flex;\n",
              "      flex-wrap:wrap;\n",
              "      gap: 12px;\n",
              "    }\n",
              "\n",
              "    .colab-df-convert {\n",
              "      background-color: #E8F0FE;\n",
              "      border: none;\n",
              "      border-radius: 50%;\n",
              "      cursor: pointer;\n",
              "      display: none;\n",
              "      fill: #1967D2;\n",
              "      height: 32px;\n",
              "      padding: 0 0 0 0;\n",
              "      width: 32px;\n",
              "    }\n",
              "\n",
              "    .colab-df-convert:hover {\n",
              "      background-color: #E2EBFA;\n",
              "      box-shadow: 0px 1px 2px rgba(60, 64, 67, 0.3), 0px 1px 3px 1px rgba(60, 64, 67, 0.15);\n",
              "      fill: #174EA6;\n",
              "    }\n",
              "\n",
              "    [theme=dark] .colab-df-convert {\n",
              "      background-color: #3B4455;\n",
              "      fill: #D2E3FC;\n",
              "    }\n",
              "\n",
              "    [theme=dark] .colab-df-convert:hover {\n",
              "      background-color: #434B5C;\n",
              "      box-shadow: 0px 1px 3px 1px rgba(0, 0, 0, 0.15);\n",
              "      filter: drop-shadow(0px 1px 2px rgba(0, 0, 0, 0.3));\n",
              "      fill: #FFFFFF;\n",
              "    }\n",
              "  </style>\n",
              "\n",
              "      <script>\n",
              "        const buttonEl =\n",
              "          document.querySelector('#df-f7a1b11f-cc4d-445b-9a7a-0ec5b3026378 button.colab-df-convert');\n",
              "        buttonEl.style.display =\n",
              "          google.colab.kernel.accessAllowed ? 'block' : 'none';\n",
              "\n",
              "        async function convertToInteractive(key) {\n",
              "          const element = document.querySelector('#df-f7a1b11f-cc4d-445b-9a7a-0ec5b3026378');\n",
              "          const dataTable =\n",
              "            await google.colab.kernel.invokeFunction('convertToInteractive',\n",
              "                                                     [key], {});\n",
              "          if (!dataTable) return;\n",
              "\n",
              "          const docLinkHtml = 'Like what you see? Visit the ' +\n",
              "            '<a target=\"_blank\" href=https://colab.research.google.com/notebooks/data_table.ipynb>data table notebook</a>'\n",
              "            + ' to learn more about interactive tables.';\n",
              "          element.innerHTML = '';\n",
              "          dataTable['output_type'] = 'display_data';\n",
              "          await google.colab.output.renderOutput(dataTable, element);\n",
              "          const docLink = document.createElement('div');\n",
              "          docLink.innerHTML = docLinkHtml;\n",
              "          element.appendChild(docLink);\n",
              "        }\n",
              "      </script>\n",
              "    </div>\n",
              "  </div>\n",
              "  "
            ]
          },
          "metadata": {},
          "execution_count": 7
        }
      ]
    },
    {
      "cell_type": "code",
      "source": [
        "df.tail()"
      ],
      "metadata": {
        "colab": {
          "base_uri": "https://localhost:8080/",
          "height": 340
        },
        "id": "fvaBNUVrjP5B",
        "outputId": "119eea5a-03eb-448c-925f-a65f71d56220"
      },
      "execution_count": null,
      "outputs": [
        {
          "output_type": "execute_result",
          "data": {
            "text/plain": [
              "                    song_name  song_popularity  song_duration_ms  \\\n",
              "18830          Let It Breathe               60            159645   \n",
              "18831                 Answers               60            205666   \n",
              "18832  Sudden Love (Acoustic)               23            182211   \n",
              "18833       Gentle on My Mind               55            352280   \n",
              "18834                Up to Me               60            193533   \n",
              "\n",
              "       acousticness  danceability  energy  instrumentalness  key  liveness  \\\n",
              "18830         0.893         0.500   0.151          0.000065   11     0.111   \n",
              "18831         0.765         0.495   0.161          0.000001   11     0.105   \n",
              "18832         0.847         0.719   0.325          0.000000    0     0.125   \n",
              "18833         0.945         0.488   0.326          0.015700    3     0.119   \n",
              "18834         0.911         0.640   0.381          0.000254    4     0.104   \n",
              "\n",
              "       loudness  audio_mode  speechiness    tempo  time_signature  \\\n",
              "18830   -16.107           1       0.0348  113.969               4   \n",
              "18831   -14.078           0       0.0301   94.286               4   \n",
              "18832   -12.222           1       0.0355  130.534               4   \n",
              "18833   -12.020           1       0.0328  106.063               4   \n",
              "18834   -11.790           1       0.0302   91.490               4   \n",
              "\n",
              "       audio_valence  \n",
              "18830          0.300  \n",
              "18831          0.265  \n",
              "18832          0.286  \n",
              "18833          0.323  \n",
              "18834          0.581  "
            ],
            "text/html": [
              "\n",
              "  <div id=\"df-98f6bc92-3986-40f1-9faa-aa8c02483270\">\n",
              "    <div class=\"colab-df-container\">\n",
              "      <div>\n",
              "<style scoped>\n",
              "    .dataframe tbody tr th:only-of-type {\n",
              "        vertical-align: middle;\n",
              "    }\n",
              "\n",
              "    .dataframe tbody tr th {\n",
              "        vertical-align: top;\n",
              "    }\n",
              "\n",
              "    .dataframe thead th {\n",
              "        text-align: right;\n",
              "    }\n",
              "</style>\n",
              "<table border=\"1\" class=\"dataframe\">\n",
              "  <thead>\n",
              "    <tr style=\"text-align: right;\">\n",
              "      <th></th>\n",
              "      <th>song_name</th>\n",
              "      <th>song_popularity</th>\n",
              "      <th>song_duration_ms</th>\n",
              "      <th>acousticness</th>\n",
              "      <th>danceability</th>\n",
              "      <th>energy</th>\n",
              "      <th>instrumentalness</th>\n",
              "      <th>key</th>\n",
              "      <th>liveness</th>\n",
              "      <th>loudness</th>\n",
              "      <th>audio_mode</th>\n",
              "      <th>speechiness</th>\n",
              "      <th>tempo</th>\n",
              "      <th>time_signature</th>\n",
              "      <th>audio_valence</th>\n",
              "    </tr>\n",
              "  </thead>\n",
              "  <tbody>\n",
              "    <tr>\n",
              "      <th>18830</th>\n",
              "      <td>Let It Breathe</td>\n",
              "      <td>60</td>\n",
              "      <td>159645</td>\n",
              "      <td>0.893</td>\n",
              "      <td>0.500</td>\n",
              "      <td>0.151</td>\n",
              "      <td>0.000065</td>\n",
              "      <td>11</td>\n",
              "      <td>0.111</td>\n",
              "      <td>-16.107</td>\n",
              "      <td>1</td>\n",
              "      <td>0.0348</td>\n",
              "      <td>113.969</td>\n",
              "      <td>4</td>\n",
              "      <td>0.300</td>\n",
              "    </tr>\n",
              "    <tr>\n",
              "      <th>18831</th>\n",
              "      <td>Answers</td>\n",
              "      <td>60</td>\n",
              "      <td>205666</td>\n",
              "      <td>0.765</td>\n",
              "      <td>0.495</td>\n",
              "      <td>0.161</td>\n",
              "      <td>0.000001</td>\n",
              "      <td>11</td>\n",
              "      <td>0.105</td>\n",
              "      <td>-14.078</td>\n",
              "      <td>0</td>\n",
              "      <td>0.0301</td>\n",
              "      <td>94.286</td>\n",
              "      <td>4</td>\n",
              "      <td>0.265</td>\n",
              "    </tr>\n",
              "    <tr>\n",
              "      <th>18832</th>\n",
              "      <td>Sudden Love (Acoustic)</td>\n",
              "      <td>23</td>\n",
              "      <td>182211</td>\n",
              "      <td>0.847</td>\n",
              "      <td>0.719</td>\n",
              "      <td>0.325</td>\n",
              "      <td>0.000000</td>\n",
              "      <td>0</td>\n",
              "      <td>0.125</td>\n",
              "      <td>-12.222</td>\n",
              "      <td>1</td>\n",
              "      <td>0.0355</td>\n",
              "      <td>130.534</td>\n",
              "      <td>4</td>\n",
              "      <td>0.286</td>\n",
              "    </tr>\n",
              "    <tr>\n",
              "      <th>18833</th>\n",
              "      <td>Gentle on My Mind</td>\n",
              "      <td>55</td>\n",
              "      <td>352280</td>\n",
              "      <td>0.945</td>\n",
              "      <td>0.488</td>\n",
              "      <td>0.326</td>\n",
              "      <td>0.015700</td>\n",
              "      <td>3</td>\n",
              "      <td>0.119</td>\n",
              "      <td>-12.020</td>\n",
              "      <td>1</td>\n",
              "      <td>0.0328</td>\n",
              "      <td>106.063</td>\n",
              "      <td>4</td>\n",
              "      <td>0.323</td>\n",
              "    </tr>\n",
              "    <tr>\n",
              "      <th>18834</th>\n",
              "      <td>Up to Me</td>\n",
              "      <td>60</td>\n",
              "      <td>193533</td>\n",
              "      <td>0.911</td>\n",
              "      <td>0.640</td>\n",
              "      <td>0.381</td>\n",
              "      <td>0.000254</td>\n",
              "      <td>4</td>\n",
              "      <td>0.104</td>\n",
              "      <td>-11.790</td>\n",
              "      <td>1</td>\n",
              "      <td>0.0302</td>\n",
              "      <td>91.490</td>\n",
              "      <td>4</td>\n",
              "      <td>0.581</td>\n",
              "    </tr>\n",
              "  </tbody>\n",
              "</table>\n",
              "</div>\n",
              "      <button class=\"colab-df-convert\" onclick=\"convertToInteractive('df-98f6bc92-3986-40f1-9faa-aa8c02483270')\"\n",
              "              title=\"Convert this dataframe to an interactive table.\"\n",
              "              style=\"display:none;\">\n",
              "        \n",
              "  <svg xmlns=\"http://www.w3.org/2000/svg\" height=\"24px\"viewBox=\"0 0 24 24\"\n",
              "       width=\"24px\">\n",
              "    <path d=\"M0 0h24v24H0V0z\" fill=\"none\"/>\n",
              "    <path d=\"M18.56 5.44l.94 2.06.94-2.06 2.06-.94-2.06-.94-.94-2.06-.94 2.06-2.06.94zm-11 1L8.5 8.5l.94-2.06 2.06-.94-2.06-.94L8.5 2.5l-.94 2.06-2.06.94zm10 10l.94 2.06.94-2.06 2.06-.94-2.06-.94-.94-2.06-.94 2.06-2.06.94z\"/><path d=\"M17.41 7.96l-1.37-1.37c-.4-.4-.92-.59-1.43-.59-.52 0-1.04.2-1.43.59L10.3 9.45l-7.72 7.72c-.78.78-.78 2.05 0 2.83L4 21.41c.39.39.9.59 1.41.59.51 0 1.02-.2 1.41-.59l7.78-7.78 2.81-2.81c.8-.78.8-2.07 0-2.86zM5.41 20L4 18.59l7.72-7.72 1.47 1.35L5.41 20z\"/>\n",
              "  </svg>\n",
              "      </button>\n",
              "      \n",
              "  <style>\n",
              "    .colab-df-container {\n",
              "      display:flex;\n",
              "      flex-wrap:wrap;\n",
              "      gap: 12px;\n",
              "    }\n",
              "\n",
              "    .colab-df-convert {\n",
              "      background-color: #E8F0FE;\n",
              "      border: none;\n",
              "      border-radius: 50%;\n",
              "      cursor: pointer;\n",
              "      display: none;\n",
              "      fill: #1967D2;\n",
              "      height: 32px;\n",
              "      padding: 0 0 0 0;\n",
              "      width: 32px;\n",
              "    }\n",
              "\n",
              "    .colab-df-convert:hover {\n",
              "      background-color: #E2EBFA;\n",
              "      box-shadow: 0px 1px 2px rgba(60, 64, 67, 0.3), 0px 1px 3px 1px rgba(60, 64, 67, 0.15);\n",
              "      fill: #174EA6;\n",
              "    }\n",
              "\n",
              "    [theme=dark] .colab-df-convert {\n",
              "      background-color: #3B4455;\n",
              "      fill: #D2E3FC;\n",
              "    }\n",
              "\n",
              "    [theme=dark] .colab-df-convert:hover {\n",
              "      background-color: #434B5C;\n",
              "      box-shadow: 0px 1px 3px 1px rgba(0, 0, 0, 0.15);\n",
              "      filter: drop-shadow(0px 1px 2px rgba(0, 0, 0, 0.3));\n",
              "      fill: #FFFFFF;\n",
              "    }\n",
              "  </style>\n",
              "\n",
              "      <script>\n",
              "        const buttonEl =\n",
              "          document.querySelector('#df-98f6bc92-3986-40f1-9faa-aa8c02483270 button.colab-df-convert');\n",
              "        buttonEl.style.display =\n",
              "          google.colab.kernel.accessAllowed ? 'block' : 'none';\n",
              "\n",
              "        async function convertToInteractive(key) {\n",
              "          const element = document.querySelector('#df-98f6bc92-3986-40f1-9faa-aa8c02483270');\n",
              "          const dataTable =\n",
              "            await google.colab.kernel.invokeFunction('convertToInteractive',\n",
              "                                                     [key], {});\n",
              "          if (!dataTable) return;\n",
              "\n",
              "          const docLinkHtml = 'Like what you see? Visit the ' +\n",
              "            '<a target=\"_blank\" href=https://colab.research.google.com/notebooks/data_table.ipynb>data table notebook</a>'\n",
              "            + ' to learn more about interactive tables.';\n",
              "          element.innerHTML = '';\n",
              "          dataTable['output_type'] = 'display_data';\n",
              "          await google.colab.output.renderOutput(dataTable, element);\n",
              "          const docLink = document.createElement('div');\n",
              "          docLink.innerHTML = docLinkHtml;\n",
              "          element.appendChild(docLink);\n",
              "        }\n",
              "      </script>\n",
              "    </div>\n",
              "  </div>\n",
              "  "
            ]
          },
          "metadata": {},
          "execution_count": 8
        }
      ]
    },
    {
      "cell_type": "code",
      "source": [
        "df.skew()"
      ],
      "metadata": {
        "colab": {
          "base_uri": "https://localhost:8080/"
        },
        "id": "eH4496RajbWm",
        "outputId": "e4507817-e761-434e-a21e-ea5988d2506a"
      },
      "execution_count": null,
      "outputs": [
        {
          "output_type": "stream",
          "name": "stderr",
          "text": [
            "<ipython-input-9-9e0b1e29546f>:1: FutureWarning: The default value of numeric_only in DataFrame.skew is deprecated. In a future version, it will default to False. In addition, specifying 'numeric_only=None' is deprecated. Select only valid columns or specify the value of numeric_only to silence this warning.\n",
            "  df.skew()\n"
          ]
        },
        {
          "output_type": "execute_result",
          "data": {
            "text/plain": [
              "song_popularity    -0.501487\n",
              "song_duration_ms    3.257477\n",
              "acousticness        1.071164\n",
              "danceability       -0.391719\n",
              "energy             -0.620738\n",
              "instrumentalness    2.985176\n",
              "key                -0.002520\n",
              "liveness            2.215423\n",
              "loudness           -1.929511\n",
              "audio_mode         -0.530308\n",
              "speechiness         2.271018\n",
              "tempo               0.442855\n",
              "time_signature     -4.979342\n",
              "audio_valence      -0.016423\n",
              "dtype: float64"
            ]
          },
          "metadata": {},
          "execution_count": 9
        }
      ]
    },
    {
      "cell_type": "markdown",
      "source": [
        "**RENAMING COLUMNS FOR EASE TO USE**"
      ],
      "metadata": {
        "id": "1qM-TdDz0D8x"
      }
    },
    {
      "cell_type": "code",
      "source": [
        "df=df.rename(columns={'song_name':'Name','song_popularity':'Popularity','song_duration_ms':'Duration (ms)','audio_mode':'Mode','liveness':'Spiritedness'})\n",
        "df"
      ],
      "metadata": {
        "colab": {
          "base_uri": "https://localhost:8080/",
          "height": 713
        },
        "id": "o8qPTyn3mbl-",
        "outputId": "2dac3e9a-ceca-4d16-b088-099ff4c35fee"
      },
      "execution_count": null,
      "outputs": [
        {
          "output_type": "execute_result",
          "data": {
            "text/plain": [
              "                             Name  Popularity  Duration (ms)  acousticness  \\\n",
              "0      Boulevard of Broken Dreams          73         262333      0.005520   \n",
              "1                      In The End          66         216933      0.010300   \n",
              "2               Seven Nation Army          76         231733      0.008170   \n",
              "3                      By The Way          74         216933      0.026400   \n",
              "4               How You Remind Me          56         223826      0.000954   \n",
              "...                           ...         ...            ...           ...   \n",
              "18830              Let It Breathe          60         159645      0.893000   \n",
              "18831                     Answers          60         205666      0.765000   \n",
              "18832      Sudden Love (Acoustic)          23         182211      0.847000   \n",
              "18833           Gentle on My Mind          55         352280      0.945000   \n",
              "18834                    Up to Me          60         193533      0.911000   \n",
              "\n",
              "       danceability  energy  instrumentalness  key  Spiritedness  loudness  \\\n",
              "0             0.496   0.682          0.000029    8        0.0589    -4.095   \n",
              "1             0.542   0.853          0.000000    3        0.1080    -6.407   \n",
              "2             0.737   0.463          0.447000    0        0.2550    -7.828   \n",
              "3             0.451   0.970          0.003550    0        0.1020    -4.938   \n",
              "4             0.447   0.766          0.000000   10        0.1130    -5.065   \n",
              "...             ...     ...               ...  ...           ...       ...   \n",
              "18830         0.500   0.151          0.000065   11        0.1110   -16.107   \n",
              "18831         0.495   0.161          0.000001   11        0.1050   -14.078   \n",
              "18832         0.719   0.325          0.000000    0        0.1250   -12.222   \n",
              "18833         0.488   0.326          0.015700    3        0.1190   -12.020   \n",
              "18834         0.640   0.381          0.000254    4        0.1040   -11.790   \n",
              "\n",
              "       Mode  speechiness    tempo  time_signature  audio_valence  \n",
              "0         1       0.0294  167.060               4          0.474  \n",
              "1         0       0.0498  105.256               4          0.370  \n",
              "2         1       0.0792  123.881               4          0.324  \n",
              "3         1       0.1070  122.444               4          0.198  \n",
              "4         1       0.0313  172.011               4          0.574  \n",
              "...     ...          ...      ...             ...            ...  \n",
              "18830     1       0.0348  113.969               4          0.300  \n",
              "18831     0       0.0301   94.286               4          0.265  \n",
              "18832     1       0.0355  130.534               4          0.286  \n",
              "18833     1       0.0328  106.063               4          0.323  \n",
              "18834     1       0.0302   91.490               4          0.581  \n",
              "\n",
              "[18835 rows x 15 columns]"
            ],
            "text/html": [
              "\n",
              "  <div id=\"df-99c276df-a9c0-4288-bbaa-cdf57d6978b1\">\n",
              "    <div class=\"colab-df-container\">\n",
              "      <div>\n",
              "<style scoped>\n",
              "    .dataframe tbody tr th:only-of-type {\n",
              "        vertical-align: middle;\n",
              "    }\n",
              "\n",
              "    .dataframe tbody tr th {\n",
              "        vertical-align: top;\n",
              "    }\n",
              "\n",
              "    .dataframe thead th {\n",
              "        text-align: right;\n",
              "    }\n",
              "</style>\n",
              "<table border=\"1\" class=\"dataframe\">\n",
              "  <thead>\n",
              "    <tr style=\"text-align: right;\">\n",
              "      <th></th>\n",
              "      <th>Name</th>\n",
              "      <th>Popularity</th>\n",
              "      <th>Duration (ms)</th>\n",
              "      <th>acousticness</th>\n",
              "      <th>danceability</th>\n",
              "      <th>energy</th>\n",
              "      <th>instrumentalness</th>\n",
              "      <th>key</th>\n",
              "      <th>Spiritedness</th>\n",
              "      <th>loudness</th>\n",
              "      <th>Mode</th>\n",
              "      <th>speechiness</th>\n",
              "      <th>tempo</th>\n",
              "      <th>time_signature</th>\n",
              "      <th>audio_valence</th>\n",
              "    </tr>\n",
              "  </thead>\n",
              "  <tbody>\n",
              "    <tr>\n",
              "      <th>0</th>\n",
              "      <td>Boulevard of Broken Dreams</td>\n",
              "      <td>73</td>\n",
              "      <td>262333</td>\n",
              "      <td>0.005520</td>\n",
              "      <td>0.496</td>\n",
              "      <td>0.682</td>\n",
              "      <td>0.000029</td>\n",
              "      <td>8</td>\n",
              "      <td>0.0589</td>\n",
              "      <td>-4.095</td>\n",
              "      <td>1</td>\n",
              "      <td>0.0294</td>\n",
              "      <td>167.060</td>\n",
              "      <td>4</td>\n",
              "      <td>0.474</td>\n",
              "    </tr>\n",
              "    <tr>\n",
              "      <th>1</th>\n",
              "      <td>In The End</td>\n",
              "      <td>66</td>\n",
              "      <td>216933</td>\n",
              "      <td>0.010300</td>\n",
              "      <td>0.542</td>\n",
              "      <td>0.853</td>\n",
              "      <td>0.000000</td>\n",
              "      <td>3</td>\n",
              "      <td>0.1080</td>\n",
              "      <td>-6.407</td>\n",
              "      <td>0</td>\n",
              "      <td>0.0498</td>\n",
              "      <td>105.256</td>\n",
              "      <td>4</td>\n",
              "      <td>0.370</td>\n",
              "    </tr>\n",
              "    <tr>\n",
              "      <th>2</th>\n",
              "      <td>Seven Nation Army</td>\n",
              "      <td>76</td>\n",
              "      <td>231733</td>\n",
              "      <td>0.008170</td>\n",
              "      <td>0.737</td>\n",
              "      <td>0.463</td>\n",
              "      <td>0.447000</td>\n",
              "      <td>0</td>\n",
              "      <td>0.2550</td>\n",
              "      <td>-7.828</td>\n",
              "      <td>1</td>\n",
              "      <td>0.0792</td>\n",
              "      <td>123.881</td>\n",
              "      <td>4</td>\n",
              "      <td>0.324</td>\n",
              "    </tr>\n",
              "    <tr>\n",
              "      <th>3</th>\n",
              "      <td>By The Way</td>\n",
              "      <td>74</td>\n",
              "      <td>216933</td>\n",
              "      <td>0.026400</td>\n",
              "      <td>0.451</td>\n",
              "      <td>0.970</td>\n",
              "      <td>0.003550</td>\n",
              "      <td>0</td>\n",
              "      <td>0.1020</td>\n",
              "      <td>-4.938</td>\n",
              "      <td>1</td>\n",
              "      <td>0.1070</td>\n",
              "      <td>122.444</td>\n",
              "      <td>4</td>\n",
              "      <td>0.198</td>\n",
              "    </tr>\n",
              "    <tr>\n",
              "      <th>4</th>\n",
              "      <td>How You Remind Me</td>\n",
              "      <td>56</td>\n",
              "      <td>223826</td>\n",
              "      <td>0.000954</td>\n",
              "      <td>0.447</td>\n",
              "      <td>0.766</td>\n",
              "      <td>0.000000</td>\n",
              "      <td>10</td>\n",
              "      <td>0.1130</td>\n",
              "      <td>-5.065</td>\n",
              "      <td>1</td>\n",
              "      <td>0.0313</td>\n",
              "      <td>172.011</td>\n",
              "      <td>4</td>\n",
              "      <td>0.574</td>\n",
              "    </tr>\n",
              "    <tr>\n",
              "      <th>...</th>\n",
              "      <td>...</td>\n",
              "      <td>...</td>\n",
              "      <td>...</td>\n",
              "      <td>...</td>\n",
              "      <td>...</td>\n",
              "      <td>...</td>\n",
              "      <td>...</td>\n",
              "      <td>...</td>\n",
              "      <td>...</td>\n",
              "      <td>...</td>\n",
              "      <td>...</td>\n",
              "      <td>...</td>\n",
              "      <td>...</td>\n",
              "      <td>...</td>\n",
              "      <td>...</td>\n",
              "    </tr>\n",
              "    <tr>\n",
              "      <th>18830</th>\n",
              "      <td>Let It Breathe</td>\n",
              "      <td>60</td>\n",
              "      <td>159645</td>\n",
              "      <td>0.893000</td>\n",
              "      <td>0.500</td>\n",
              "      <td>0.151</td>\n",
              "      <td>0.000065</td>\n",
              "      <td>11</td>\n",
              "      <td>0.1110</td>\n",
              "      <td>-16.107</td>\n",
              "      <td>1</td>\n",
              "      <td>0.0348</td>\n",
              "      <td>113.969</td>\n",
              "      <td>4</td>\n",
              "      <td>0.300</td>\n",
              "    </tr>\n",
              "    <tr>\n",
              "      <th>18831</th>\n",
              "      <td>Answers</td>\n",
              "      <td>60</td>\n",
              "      <td>205666</td>\n",
              "      <td>0.765000</td>\n",
              "      <td>0.495</td>\n",
              "      <td>0.161</td>\n",
              "      <td>0.000001</td>\n",
              "      <td>11</td>\n",
              "      <td>0.1050</td>\n",
              "      <td>-14.078</td>\n",
              "      <td>0</td>\n",
              "      <td>0.0301</td>\n",
              "      <td>94.286</td>\n",
              "      <td>4</td>\n",
              "      <td>0.265</td>\n",
              "    </tr>\n",
              "    <tr>\n",
              "      <th>18832</th>\n",
              "      <td>Sudden Love (Acoustic)</td>\n",
              "      <td>23</td>\n",
              "      <td>182211</td>\n",
              "      <td>0.847000</td>\n",
              "      <td>0.719</td>\n",
              "      <td>0.325</td>\n",
              "      <td>0.000000</td>\n",
              "      <td>0</td>\n",
              "      <td>0.1250</td>\n",
              "      <td>-12.222</td>\n",
              "      <td>1</td>\n",
              "      <td>0.0355</td>\n",
              "      <td>130.534</td>\n",
              "      <td>4</td>\n",
              "      <td>0.286</td>\n",
              "    </tr>\n",
              "    <tr>\n",
              "      <th>18833</th>\n",
              "      <td>Gentle on My Mind</td>\n",
              "      <td>55</td>\n",
              "      <td>352280</td>\n",
              "      <td>0.945000</td>\n",
              "      <td>0.488</td>\n",
              "      <td>0.326</td>\n",
              "      <td>0.015700</td>\n",
              "      <td>3</td>\n",
              "      <td>0.1190</td>\n",
              "      <td>-12.020</td>\n",
              "      <td>1</td>\n",
              "      <td>0.0328</td>\n",
              "      <td>106.063</td>\n",
              "      <td>4</td>\n",
              "      <td>0.323</td>\n",
              "    </tr>\n",
              "    <tr>\n",
              "      <th>18834</th>\n",
              "      <td>Up to Me</td>\n",
              "      <td>60</td>\n",
              "      <td>193533</td>\n",
              "      <td>0.911000</td>\n",
              "      <td>0.640</td>\n",
              "      <td>0.381</td>\n",
              "      <td>0.000254</td>\n",
              "      <td>4</td>\n",
              "      <td>0.1040</td>\n",
              "      <td>-11.790</td>\n",
              "      <td>1</td>\n",
              "      <td>0.0302</td>\n",
              "      <td>91.490</td>\n",
              "      <td>4</td>\n",
              "      <td>0.581</td>\n",
              "    </tr>\n",
              "  </tbody>\n",
              "</table>\n",
              "<p>18835 rows × 15 columns</p>\n",
              "</div>\n",
              "      <button class=\"colab-df-convert\" onclick=\"convertToInteractive('df-99c276df-a9c0-4288-bbaa-cdf57d6978b1')\"\n",
              "              title=\"Convert this dataframe to an interactive table.\"\n",
              "              style=\"display:none;\">\n",
              "        \n",
              "  <svg xmlns=\"http://www.w3.org/2000/svg\" height=\"24px\"viewBox=\"0 0 24 24\"\n",
              "       width=\"24px\">\n",
              "    <path d=\"M0 0h24v24H0V0z\" fill=\"none\"/>\n",
              "    <path d=\"M18.56 5.44l.94 2.06.94-2.06 2.06-.94-2.06-.94-.94-2.06-.94 2.06-2.06.94zm-11 1L8.5 8.5l.94-2.06 2.06-.94-2.06-.94L8.5 2.5l-.94 2.06-2.06.94zm10 10l.94 2.06.94-2.06 2.06-.94-2.06-.94-.94-2.06-.94 2.06-2.06.94z\"/><path d=\"M17.41 7.96l-1.37-1.37c-.4-.4-.92-.59-1.43-.59-.52 0-1.04.2-1.43.59L10.3 9.45l-7.72 7.72c-.78.78-.78 2.05 0 2.83L4 21.41c.39.39.9.59 1.41.59.51 0 1.02-.2 1.41-.59l7.78-7.78 2.81-2.81c.8-.78.8-2.07 0-2.86zM5.41 20L4 18.59l7.72-7.72 1.47 1.35L5.41 20z\"/>\n",
              "  </svg>\n",
              "      </button>\n",
              "      \n",
              "  <style>\n",
              "    .colab-df-container {\n",
              "      display:flex;\n",
              "      flex-wrap:wrap;\n",
              "      gap: 12px;\n",
              "    }\n",
              "\n",
              "    .colab-df-convert {\n",
              "      background-color: #E8F0FE;\n",
              "      border: none;\n",
              "      border-radius: 50%;\n",
              "      cursor: pointer;\n",
              "      display: none;\n",
              "      fill: #1967D2;\n",
              "      height: 32px;\n",
              "      padding: 0 0 0 0;\n",
              "      width: 32px;\n",
              "    }\n",
              "\n",
              "    .colab-df-convert:hover {\n",
              "      background-color: #E2EBFA;\n",
              "      box-shadow: 0px 1px 2px rgba(60, 64, 67, 0.3), 0px 1px 3px 1px rgba(60, 64, 67, 0.15);\n",
              "      fill: #174EA6;\n",
              "    }\n",
              "\n",
              "    [theme=dark] .colab-df-convert {\n",
              "      background-color: #3B4455;\n",
              "      fill: #D2E3FC;\n",
              "    }\n",
              "\n",
              "    [theme=dark] .colab-df-convert:hover {\n",
              "      background-color: #434B5C;\n",
              "      box-shadow: 0px 1px 3px 1px rgba(0, 0, 0, 0.15);\n",
              "      filter: drop-shadow(0px 1px 2px rgba(0, 0, 0, 0.3));\n",
              "      fill: #FFFFFF;\n",
              "    }\n",
              "  </style>\n",
              "\n",
              "      <script>\n",
              "        const buttonEl =\n",
              "          document.querySelector('#df-99c276df-a9c0-4288-bbaa-cdf57d6978b1 button.colab-df-convert');\n",
              "        buttonEl.style.display =\n",
              "          google.colab.kernel.accessAllowed ? 'block' : 'none';\n",
              "\n",
              "        async function convertToInteractive(key) {\n",
              "          const element = document.querySelector('#df-99c276df-a9c0-4288-bbaa-cdf57d6978b1');\n",
              "          const dataTable =\n",
              "            await google.colab.kernel.invokeFunction('convertToInteractive',\n",
              "                                                     [key], {});\n",
              "          if (!dataTable) return;\n",
              "\n",
              "          const docLinkHtml = 'Like what you see? Visit the ' +\n",
              "            '<a target=\"_blank\" href=https://colab.research.google.com/notebooks/data_table.ipynb>data table notebook</a>'\n",
              "            + ' to learn more about interactive tables.';\n",
              "          element.innerHTML = '';\n",
              "          dataTable['output_type'] = 'display_data';\n",
              "          await google.colab.output.renderOutput(dataTable, element);\n",
              "          const docLink = document.createElement('div');\n",
              "          docLink.innerHTML = docLinkHtml;\n",
              "          element.appendChild(docLink);\n",
              "        }\n",
              "      </script>\n",
              "    </div>\n",
              "  </div>\n",
              "  "
            ]
          },
          "metadata": {},
          "execution_count": 10
        }
      ]
    },
    {
      "cell_type": "markdown",
      "source": [
        "**SORTING POPULARITY IN ASCENDING ORDER**"
      ],
      "metadata": {
        "id": "dcvF3gZc55YR"
      }
    },
    {
      "cell_type": "code",
      "source": [
        "df=df.sort_values(by='Popularity', ascending=True)\n",
        "df"
      ],
      "metadata": {
        "colab": {
          "base_uri": "https://localhost:8080/",
          "height": 627
        },
        "id": "DuxC1Ank5Yhm",
        "outputId": "ed00da01-ec90-415d-916e-54595c4a4215"
      },
      "execution_count": null,
      "outputs": [
        {
          "output_type": "execute_result",
          "data": {
            "text/plain": [
              "                                        Name  Popularity  Duration (ms)  \\\n",
              "10479                              Forastero           0         267687   \n",
              "9995                       Trouble Adjusting           0         222933   \n",
              "4014   Saturday Night's Alright For Fighting           0         224306   \n",
              "18551                             Many Lives           0         286066   \n",
              "4017                            Teddy Picker           0         165000   \n",
              "...                                      ...         ...            ...   \n",
              "11697                                Happier         100         214289   \n",
              "7636                                 Happier         100         214289   \n",
              "14176                                Happier         100         214289   \n",
              "7568                                 Happier         100         214289   \n",
              "5593                                 Happier         100         214289   \n",
              "\n",
              "       acousticness  danceability  energy  instrumentalness  key  \\\n",
              "10479      0.212000         0.591   0.826          0.000000    9   \n",
              "9995       0.011000         0.363   0.824          0.000000    4   \n",
              "4014       0.026100         0.538   0.956          0.000147    9   \n",
              "18551      0.183000         0.637   0.749          0.088300    6   \n",
              "4017       0.000286         0.637   0.963          0.000889    9   \n",
              "...             ...           ...     ...               ...  ...   \n",
              "11697      0.191000         0.687   0.792          0.000000    5   \n",
              "7636       0.191000         0.687   0.792          0.000000    5   \n",
              "14176      0.191000         0.687   0.792          0.000000    5   \n",
              "7568       0.191000         0.687   0.792          0.000000    5   \n",
              "5593       0.191000         0.687   0.792          0.000000    5   \n",
              "\n",
              "       Spiritedness  loudness  Mode  speechiness    tempo  time_signature  \\\n",
              "10479        0.1070    -5.899     0       0.2430  173.823               4   \n",
              "9995         0.1050    -3.316     1       0.0405  118.660               4   \n",
              "4014         0.2790    -4.022     1       0.1230  150.028               4   \n",
              "18551        0.1530    -5.659     1       0.0310   99.973               4   \n",
              "4017         0.0449    -5.116     1       0.0882  150.100               4   \n",
              "...             ...       ...   ...          ...      ...             ...   \n",
              "11697        0.1670    -2.749     1       0.0452  100.015               4   \n",
              "7636         0.1670    -2.749     1       0.0452  100.015               4   \n",
              "14176        0.1670    -2.749     1       0.0452  100.015               4   \n",
              "7568         0.1670    -2.749     1       0.0452  100.015               4   \n",
              "5593         0.1670    -2.749     1       0.0452  100.015               4   \n",
              "\n",
              "       audio_valence  \n",
              "10479          0.843  \n",
              "9995           0.164  \n",
              "4014           0.720  \n",
              "18551          0.334  \n",
              "4017           0.823  \n",
              "...              ...  \n",
              "11697          0.671  \n",
              "7636           0.671  \n",
              "14176          0.671  \n",
              "7568           0.671  \n",
              "5593           0.671  \n",
              "\n",
              "[18835 rows x 15 columns]"
            ],
            "text/html": [
              "\n",
              "  <div id=\"df-ea44e9f3-9339-4c2d-b0be-e9ea66316c45\">\n",
              "    <div class=\"colab-df-container\">\n",
              "      <div>\n",
              "<style scoped>\n",
              "    .dataframe tbody tr th:only-of-type {\n",
              "        vertical-align: middle;\n",
              "    }\n",
              "\n",
              "    .dataframe tbody tr th {\n",
              "        vertical-align: top;\n",
              "    }\n",
              "\n",
              "    .dataframe thead th {\n",
              "        text-align: right;\n",
              "    }\n",
              "</style>\n",
              "<table border=\"1\" class=\"dataframe\">\n",
              "  <thead>\n",
              "    <tr style=\"text-align: right;\">\n",
              "      <th></th>\n",
              "      <th>Name</th>\n",
              "      <th>Popularity</th>\n",
              "      <th>Duration (ms)</th>\n",
              "      <th>acousticness</th>\n",
              "      <th>danceability</th>\n",
              "      <th>energy</th>\n",
              "      <th>instrumentalness</th>\n",
              "      <th>key</th>\n",
              "      <th>Spiritedness</th>\n",
              "      <th>loudness</th>\n",
              "      <th>Mode</th>\n",
              "      <th>speechiness</th>\n",
              "      <th>tempo</th>\n",
              "      <th>time_signature</th>\n",
              "      <th>audio_valence</th>\n",
              "    </tr>\n",
              "  </thead>\n",
              "  <tbody>\n",
              "    <tr>\n",
              "      <th>10479</th>\n",
              "      <td>Forastero</td>\n",
              "      <td>0</td>\n",
              "      <td>267687</td>\n",
              "      <td>0.212000</td>\n",
              "      <td>0.591</td>\n",
              "      <td>0.826</td>\n",
              "      <td>0.000000</td>\n",
              "      <td>9</td>\n",
              "      <td>0.1070</td>\n",
              "      <td>-5.899</td>\n",
              "      <td>0</td>\n",
              "      <td>0.2430</td>\n",
              "      <td>173.823</td>\n",
              "      <td>4</td>\n",
              "      <td>0.843</td>\n",
              "    </tr>\n",
              "    <tr>\n",
              "      <th>9995</th>\n",
              "      <td>Trouble Adjusting</td>\n",
              "      <td>0</td>\n",
              "      <td>222933</td>\n",
              "      <td>0.011000</td>\n",
              "      <td>0.363</td>\n",
              "      <td>0.824</td>\n",
              "      <td>0.000000</td>\n",
              "      <td>4</td>\n",
              "      <td>0.1050</td>\n",
              "      <td>-3.316</td>\n",
              "      <td>1</td>\n",
              "      <td>0.0405</td>\n",
              "      <td>118.660</td>\n",
              "      <td>4</td>\n",
              "      <td>0.164</td>\n",
              "    </tr>\n",
              "    <tr>\n",
              "      <th>4014</th>\n",
              "      <td>Saturday Night's Alright For Fighting</td>\n",
              "      <td>0</td>\n",
              "      <td>224306</td>\n",
              "      <td>0.026100</td>\n",
              "      <td>0.538</td>\n",
              "      <td>0.956</td>\n",
              "      <td>0.000147</td>\n",
              "      <td>9</td>\n",
              "      <td>0.2790</td>\n",
              "      <td>-4.022</td>\n",
              "      <td>1</td>\n",
              "      <td>0.1230</td>\n",
              "      <td>150.028</td>\n",
              "      <td>4</td>\n",
              "      <td>0.720</td>\n",
              "    </tr>\n",
              "    <tr>\n",
              "      <th>18551</th>\n",
              "      <td>Many Lives</td>\n",
              "      <td>0</td>\n",
              "      <td>286066</td>\n",
              "      <td>0.183000</td>\n",
              "      <td>0.637</td>\n",
              "      <td>0.749</td>\n",
              "      <td>0.088300</td>\n",
              "      <td>6</td>\n",
              "      <td>0.1530</td>\n",
              "      <td>-5.659</td>\n",
              "      <td>1</td>\n",
              "      <td>0.0310</td>\n",
              "      <td>99.973</td>\n",
              "      <td>4</td>\n",
              "      <td>0.334</td>\n",
              "    </tr>\n",
              "    <tr>\n",
              "      <th>4017</th>\n",
              "      <td>Teddy Picker</td>\n",
              "      <td>0</td>\n",
              "      <td>165000</td>\n",
              "      <td>0.000286</td>\n",
              "      <td>0.637</td>\n",
              "      <td>0.963</td>\n",
              "      <td>0.000889</td>\n",
              "      <td>9</td>\n",
              "      <td>0.0449</td>\n",
              "      <td>-5.116</td>\n",
              "      <td>1</td>\n",
              "      <td>0.0882</td>\n",
              "      <td>150.100</td>\n",
              "      <td>4</td>\n",
              "      <td>0.823</td>\n",
              "    </tr>\n",
              "    <tr>\n",
              "      <th>...</th>\n",
              "      <td>...</td>\n",
              "      <td>...</td>\n",
              "      <td>...</td>\n",
              "      <td>...</td>\n",
              "      <td>...</td>\n",
              "      <td>...</td>\n",
              "      <td>...</td>\n",
              "      <td>...</td>\n",
              "      <td>...</td>\n",
              "      <td>...</td>\n",
              "      <td>...</td>\n",
              "      <td>...</td>\n",
              "      <td>...</td>\n",
              "      <td>...</td>\n",
              "      <td>...</td>\n",
              "    </tr>\n",
              "    <tr>\n",
              "      <th>11697</th>\n",
              "      <td>Happier</td>\n",
              "      <td>100</td>\n",
              "      <td>214289</td>\n",
              "      <td>0.191000</td>\n",
              "      <td>0.687</td>\n",
              "      <td>0.792</td>\n",
              "      <td>0.000000</td>\n",
              "      <td>5</td>\n",
              "      <td>0.1670</td>\n",
              "      <td>-2.749</td>\n",
              "      <td>1</td>\n",
              "      <td>0.0452</td>\n",
              "      <td>100.015</td>\n",
              "      <td>4</td>\n",
              "      <td>0.671</td>\n",
              "    </tr>\n",
              "    <tr>\n",
              "      <th>7636</th>\n",
              "      <td>Happier</td>\n",
              "      <td>100</td>\n",
              "      <td>214289</td>\n",
              "      <td>0.191000</td>\n",
              "      <td>0.687</td>\n",
              "      <td>0.792</td>\n",
              "      <td>0.000000</td>\n",
              "      <td>5</td>\n",
              "      <td>0.1670</td>\n",
              "      <td>-2.749</td>\n",
              "      <td>1</td>\n",
              "      <td>0.0452</td>\n",
              "      <td>100.015</td>\n",
              "      <td>4</td>\n",
              "      <td>0.671</td>\n",
              "    </tr>\n",
              "    <tr>\n",
              "      <th>14176</th>\n",
              "      <td>Happier</td>\n",
              "      <td>100</td>\n",
              "      <td>214289</td>\n",
              "      <td>0.191000</td>\n",
              "      <td>0.687</td>\n",
              "      <td>0.792</td>\n",
              "      <td>0.000000</td>\n",
              "      <td>5</td>\n",
              "      <td>0.1670</td>\n",
              "      <td>-2.749</td>\n",
              "      <td>1</td>\n",
              "      <td>0.0452</td>\n",
              "      <td>100.015</td>\n",
              "      <td>4</td>\n",
              "      <td>0.671</td>\n",
              "    </tr>\n",
              "    <tr>\n",
              "      <th>7568</th>\n",
              "      <td>Happier</td>\n",
              "      <td>100</td>\n",
              "      <td>214289</td>\n",
              "      <td>0.191000</td>\n",
              "      <td>0.687</td>\n",
              "      <td>0.792</td>\n",
              "      <td>0.000000</td>\n",
              "      <td>5</td>\n",
              "      <td>0.1670</td>\n",
              "      <td>-2.749</td>\n",
              "      <td>1</td>\n",
              "      <td>0.0452</td>\n",
              "      <td>100.015</td>\n",
              "      <td>4</td>\n",
              "      <td>0.671</td>\n",
              "    </tr>\n",
              "    <tr>\n",
              "      <th>5593</th>\n",
              "      <td>Happier</td>\n",
              "      <td>100</td>\n",
              "      <td>214289</td>\n",
              "      <td>0.191000</td>\n",
              "      <td>0.687</td>\n",
              "      <td>0.792</td>\n",
              "      <td>0.000000</td>\n",
              "      <td>5</td>\n",
              "      <td>0.1670</td>\n",
              "      <td>-2.749</td>\n",
              "      <td>1</td>\n",
              "      <td>0.0452</td>\n",
              "      <td>100.015</td>\n",
              "      <td>4</td>\n",
              "      <td>0.671</td>\n",
              "    </tr>\n",
              "  </tbody>\n",
              "</table>\n",
              "<p>18835 rows × 15 columns</p>\n",
              "</div>\n",
              "      <button class=\"colab-df-convert\" onclick=\"convertToInteractive('df-ea44e9f3-9339-4c2d-b0be-e9ea66316c45')\"\n",
              "              title=\"Convert this dataframe to an interactive table.\"\n",
              "              style=\"display:none;\">\n",
              "        \n",
              "  <svg xmlns=\"http://www.w3.org/2000/svg\" height=\"24px\"viewBox=\"0 0 24 24\"\n",
              "       width=\"24px\">\n",
              "    <path d=\"M0 0h24v24H0V0z\" fill=\"none\"/>\n",
              "    <path d=\"M18.56 5.44l.94 2.06.94-2.06 2.06-.94-2.06-.94-.94-2.06-.94 2.06-2.06.94zm-11 1L8.5 8.5l.94-2.06 2.06-.94-2.06-.94L8.5 2.5l-.94 2.06-2.06.94zm10 10l.94 2.06.94-2.06 2.06-.94-2.06-.94-.94-2.06-.94 2.06-2.06.94z\"/><path d=\"M17.41 7.96l-1.37-1.37c-.4-.4-.92-.59-1.43-.59-.52 0-1.04.2-1.43.59L10.3 9.45l-7.72 7.72c-.78.78-.78 2.05 0 2.83L4 21.41c.39.39.9.59 1.41.59.51 0 1.02-.2 1.41-.59l7.78-7.78 2.81-2.81c.8-.78.8-2.07 0-2.86zM5.41 20L4 18.59l7.72-7.72 1.47 1.35L5.41 20z\"/>\n",
              "  </svg>\n",
              "      </button>\n",
              "      \n",
              "  <style>\n",
              "    .colab-df-container {\n",
              "      display:flex;\n",
              "      flex-wrap:wrap;\n",
              "      gap: 12px;\n",
              "    }\n",
              "\n",
              "    .colab-df-convert {\n",
              "      background-color: #E8F0FE;\n",
              "      border: none;\n",
              "      border-radius: 50%;\n",
              "      cursor: pointer;\n",
              "      display: none;\n",
              "      fill: #1967D2;\n",
              "      height: 32px;\n",
              "      padding: 0 0 0 0;\n",
              "      width: 32px;\n",
              "    }\n",
              "\n",
              "    .colab-df-convert:hover {\n",
              "      background-color: #E2EBFA;\n",
              "      box-shadow: 0px 1px 2px rgba(60, 64, 67, 0.3), 0px 1px 3px 1px rgba(60, 64, 67, 0.15);\n",
              "      fill: #174EA6;\n",
              "    }\n",
              "\n",
              "    [theme=dark] .colab-df-convert {\n",
              "      background-color: #3B4455;\n",
              "      fill: #D2E3FC;\n",
              "    }\n",
              "\n",
              "    [theme=dark] .colab-df-convert:hover {\n",
              "      background-color: #434B5C;\n",
              "      box-shadow: 0px 1px 3px 1px rgba(0, 0, 0, 0.15);\n",
              "      filter: drop-shadow(0px 1px 2px rgba(0, 0, 0, 0.3));\n",
              "      fill: #FFFFFF;\n",
              "    }\n",
              "  </style>\n",
              "\n",
              "      <script>\n",
              "        const buttonEl =\n",
              "          document.querySelector('#df-ea44e9f3-9339-4c2d-b0be-e9ea66316c45 button.colab-df-convert');\n",
              "        buttonEl.style.display =\n",
              "          google.colab.kernel.accessAllowed ? 'block' : 'none';\n",
              "\n",
              "        async function convertToInteractive(key) {\n",
              "          const element = document.querySelector('#df-ea44e9f3-9339-4c2d-b0be-e9ea66316c45');\n",
              "          const dataTable =\n",
              "            await google.colab.kernel.invokeFunction('convertToInteractive',\n",
              "                                                     [key], {});\n",
              "          if (!dataTable) return;\n",
              "\n",
              "          const docLinkHtml = 'Like what you see? Visit the ' +\n",
              "            '<a target=\"_blank\" href=https://colab.research.google.com/notebooks/data_table.ipynb>data table notebook</a>'\n",
              "            + ' to learn more about interactive tables.';\n",
              "          element.innerHTML = '';\n",
              "          dataTable['output_type'] = 'display_data';\n",
              "          await google.colab.output.renderOutput(dataTable, element);\n",
              "          const docLink = document.createElement('div');\n",
              "          docLink.innerHTML = docLinkHtml;\n",
              "          element.appendChild(docLink);\n",
              "        }\n",
              "      </script>\n",
              "    </div>\n",
              "  </div>\n",
              "  "
            ]
          },
          "metadata": {},
          "execution_count": 11
        }
      ]
    },
    {
      "cell_type": "markdown",
      "source": [
        "**GROUPING DATA ACCORDING TO KEY**"
      ],
      "metadata": {
        "id": "qm6yO8qU6W9N"
      }
    },
    {
      "cell_type": "code",
      "source": [
        "dfnew=df.groupby(['key'])\n",
        "dfnew.describe()"
      ],
      "metadata": {
        "colab": {
          "base_uri": "https://localhost:8080/",
          "height": 582
        },
        "id": "ngl1JuPa6LUl",
        "outputId": "11798ea3-bc9d-408a-e27d-053535dcf3de"
      },
      "execution_count": null,
      "outputs": [
        {
          "output_type": "execute_result",
          "data": {
            "text/plain": [
              "    Popularity                                                      \\\n",
              "         count       mean        std  min   25%   50%   75%    max   \n",
              "key                                                                  \n",
              "0       2182.0  52.971127  22.012451  0.0  40.0  56.0  69.0   95.0   \n",
              "1       2164.0  56.036044  22.265963  0.0  43.0  59.0  73.0   98.0   \n",
              "2       1715.0  51.871720  21.505986  0.0  39.0  55.0  68.0   99.0   \n",
              "3        512.0  50.457031  20.903518  0.0  39.0  53.5  65.0   93.0   \n",
              "4       1327.0  51.763376  22.424361  0.0  39.0  54.0  69.0   97.0   \n",
              "5       1574.0  53.162008  21.928591  0.0  41.0  55.0  69.0  100.0   \n",
              "6       1351.0  55.113249  21.995752  0.0  43.0  58.0  70.0   98.0   \n",
              "7       2032.0  51.031004  20.991934  0.0  39.0  54.0  66.0   94.0   \n",
              "8       1349.0  52.591549  22.538394  0.0  40.0  55.0  69.0   97.0   \n",
              "9       1698.0  51.286808  21.467978  0.0  40.0  54.0  67.0   96.0   \n",
              "10      1331.0  53.550714  21.280746  0.0  41.0  55.0  69.0   96.0   \n",
              "11      1600.0  54.147500  22.407215  0.0  41.0  57.0  70.0   98.0   \n",
              "\n",
              "    Duration (ms)                 ... time_signature      audio_valence  \\\n",
              "            count           mean  ...            75%  max         count   \n",
              "key                               ...                                     \n",
              "0          2182.0  220231.790101  ...            4.0  5.0        2182.0   \n",
              "1          2164.0  215372.215342  ...            4.0  5.0        2164.0   \n",
              "2          1715.0  222138.601749  ...            4.0  5.0        1715.0   \n",
              "3           512.0  214549.423828  ...            4.0  5.0         512.0   \n",
              "4          1327.0  218870.291635  ...            4.0  5.0        1327.0   \n",
              "5          1574.0  216964.841804  ...            4.0  5.0        1574.0   \n",
              "6          1351.0  217205.233161  ...            4.0  5.0        1351.0   \n",
              "7          2032.0  218785.203248  ...            4.0  5.0        2032.0   \n",
              "8          1349.0  215147.784285  ...            4.0  5.0        1349.0   \n",
              "9          1698.0  219878.041225  ...            4.0  5.0        1698.0   \n",
              "10         1331.0  218728.129226  ...            4.0  5.0        1331.0   \n",
              "11         1600.0  217445.780625  ...            4.0  5.0        1600.0   \n",
              "\n",
              "                                                                  \n",
              "         mean       std     min      25%     50%      75%    max  \n",
              "key                                                               \n",
              "0    0.526016  0.251265  0.0320  0.32400  0.5215  0.73000  0.978  \n",
              "1    0.519437  0.236989  0.0384  0.32875  0.5290  0.70225  0.981  \n",
              "2    0.509632  0.246301  0.0301  0.31800  0.5020  0.70550  0.973  \n",
              "3    0.523986  0.261937  0.0347  0.31000  0.4960  0.76225  0.975  \n",
              "4    0.518182  0.252330  0.0309  0.30600  0.5100  0.72000  0.979  \n",
              "5    0.544156  0.246549  0.0336  0.34725  0.5570  0.74600  0.977  \n",
              "6    0.514799  0.241854  0.0292  0.31900  0.5210  0.70450  0.979  \n",
              "7    0.538865  0.247600  0.0000  0.34375  0.5355  0.74200  0.984  \n",
              "8    0.531753  0.248406  0.0243  0.34500  0.5320  0.73200  0.978  \n",
              "9    0.537660  0.240180  0.0292  0.34925  0.5365  0.73025  0.982  \n",
              "10   0.526909  0.242579  0.0333  0.34500  0.5220  0.72250  0.975  \n",
              "11   0.539961  0.229013  0.0000  0.37375  0.5295  0.72100  0.980  \n",
              "\n",
              "[12 rows x 104 columns]"
            ],
            "text/html": [
              "\n",
              "  <div id=\"df-e6091abc-ed45-4a6e-a5e2-7805ea92edcf\">\n",
              "    <div class=\"colab-df-container\">\n",
              "      <div>\n",
              "<style scoped>\n",
              "    .dataframe tbody tr th:only-of-type {\n",
              "        vertical-align: middle;\n",
              "    }\n",
              "\n",
              "    .dataframe tbody tr th {\n",
              "        vertical-align: top;\n",
              "    }\n",
              "\n",
              "    .dataframe thead tr th {\n",
              "        text-align: left;\n",
              "    }\n",
              "\n",
              "    .dataframe thead tr:last-of-type th {\n",
              "        text-align: right;\n",
              "    }\n",
              "</style>\n",
              "<table border=\"1\" class=\"dataframe\">\n",
              "  <thead>\n",
              "    <tr>\n",
              "      <th></th>\n",
              "      <th colspan=\"8\" halign=\"left\">Popularity</th>\n",
              "      <th colspan=\"2\" halign=\"left\">Duration (ms)</th>\n",
              "      <th>...</th>\n",
              "      <th colspan=\"2\" halign=\"left\">time_signature</th>\n",
              "      <th colspan=\"8\" halign=\"left\">audio_valence</th>\n",
              "    </tr>\n",
              "    <tr>\n",
              "      <th></th>\n",
              "      <th>count</th>\n",
              "      <th>mean</th>\n",
              "      <th>std</th>\n",
              "      <th>min</th>\n",
              "      <th>25%</th>\n",
              "      <th>50%</th>\n",
              "      <th>75%</th>\n",
              "      <th>max</th>\n",
              "      <th>count</th>\n",
              "      <th>mean</th>\n",
              "      <th>...</th>\n",
              "      <th>75%</th>\n",
              "      <th>max</th>\n",
              "      <th>count</th>\n",
              "      <th>mean</th>\n",
              "      <th>std</th>\n",
              "      <th>min</th>\n",
              "      <th>25%</th>\n",
              "      <th>50%</th>\n",
              "      <th>75%</th>\n",
              "      <th>max</th>\n",
              "    </tr>\n",
              "    <tr>\n",
              "      <th>key</th>\n",
              "      <th></th>\n",
              "      <th></th>\n",
              "      <th></th>\n",
              "      <th></th>\n",
              "      <th></th>\n",
              "      <th></th>\n",
              "      <th></th>\n",
              "      <th></th>\n",
              "      <th></th>\n",
              "      <th></th>\n",
              "      <th></th>\n",
              "      <th></th>\n",
              "      <th></th>\n",
              "      <th></th>\n",
              "      <th></th>\n",
              "      <th></th>\n",
              "      <th></th>\n",
              "      <th></th>\n",
              "      <th></th>\n",
              "      <th></th>\n",
              "      <th></th>\n",
              "    </tr>\n",
              "  </thead>\n",
              "  <tbody>\n",
              "    <tr>\n",
              "      <th>0</th>\n",
              "      <td>2182.0</td>\n",
              "      <td>52.971127</td>\n",
              "      <td>22.012451</td>\n",
              "      <td>0.0</td>\n",
              "      <td>40.0</td>\n",
              "      <td>56.0</td>\n",
              "      <td>69.0</td>\n",
              "      <td>95.0</td>\n",
              "      <td>2182.0</td>\n",
              "      <td>220231.790101</td>\n",
              "      <td>...</td>\n",
              "      <td>4.0</td>\n",
              "      <td>5.0</td>\n",
              "      <td>2182.0</td>\n",
              "      <td>0.526016</td>\n",
              "      <td>0.251265</td>\n",
              "      <td>0.0320</td>\n",
              "      <td>0.32400</td>\n",
              "      <td>0.5215</td>\n",
              "      <td>0.73000</td>\n",
              "      <td>0.978</td>\n",
              "    </tr>\n",
              "    <tr>\n",
              "      <th>1</th>\n",
              "      <td>2164.0</td>\n",
              "      <td>56.036044</td>\n",
              "      <td>22.265963</td>\n",
              "      <td>0.0</td>\n",
              "      <td>43.0</td>\n",
              "      <td>59.0</td>\n",
              "      <td>73.0</td>\n",
              "      <td>98.0</td>\n",
              "      <td>2164.0</td>\n",
              "      <td>215372.215342</td>\n",
              "      <td>...</td>\n",
              "      <td>4.0</td>\n",
              "      <td>5.0</td>\n",
              "      <td>2164.0</td>\n",
              "      <td>0.519437</td>\n",
              "      <td>0.236989</td>\n",
              "      <td>0.0384</td>\n",
              "      <td>0.32875</td>\n",
              "      <td>0.5290</td>\n",
              "      <td>0.70225</td>\n",
              "      <td>0.981</td>\n",
              "    </tr>\n",
              "    <tr>\n",
              "      <th>2</th>\n",
              "      <td>1715.0</td>\n",
              "      <td>51.871720</td>\n",
              "      <td>21.505986</td>\n",
              "      <td>0.0</td>\n",
              "      <td>39.0</td>\n",
              "      <td>55.0</td>\n",
              "      <td>68.0</td>\n",
              "      <td>99.0</td>\n",
              "      <td>1715.0</td>\n",
              "      <td>222138.601749</td>\n",
              "      <td>...</td>\n",
              "      <td>4.0</td>\n",
              "      <td>5.0</td>\n",
              "      <td>1715.0</td>\n",
              "      <td>0.509632</td>\n",
              "      <td>0.246301</td>\n",
              "      <td>0.0301</td>\n",
              "      <td>0.31800</td>\n",
              "      <td>0.5020</td>\n",
              "      <td>0.70550</td>\n",
              "      <td>0.973</td>\n",
              "    </tr>\n",
              "    <tr>\n",
              "      <th>3</th>\n",
              "      <td>512.0</td>\n",
              "      <td>50.457031</td>\n",
              "      <td>20.903518</td>\n",
              "      <td>0.0</td>\n",
              "      <td>39.0</td>\n",
              "      <td>53.5</td>\n",
              "      <td>65.0</td>\n",
              "      <td>93.0</td>\n",
              "      <td>512.0</td>\n",
              "      <td>214549.423828</td>\n",
              "      <td>...</td>\n",
              "      <td>4.0</td>\n",
              "      <td>5.0</td>\n",
              "      <td>512.0</td>\n",
              "      <td>0.523986</td>\n",
              "      <td>0.261937</td>\n",
              "      <td>0.0347</td>\n",
              "      <td>0.31000</td>\n",
              "      <td>0.4960</td>\n",
              "      <td>0.76225</td>\n",
              "      <td>0.975</td>\n",
              "    </tr>\n",
              "    <tr>\n",
              "      <th>4</th>\n",
              "      <td>1327.0</td>\n",
              "      <td>51.763376</td>\n",
              "      <td>22.424361</td>\n",
              "      <td>0.0</td>\n",
              "      <td>39.0</td>\n",
              "      <td>54.0</td>\n",
              "      <td>69.0</td>\n",
              "      <td>97.0</td>\n",
              "      <td>1327.0</td>\n",
              "      <td>218870.291635</td>\n",
              "      <td>...</td>\n",
              "      <td>4.0</td>\n",
              "      <td>5.0</td>\n",
              "      <td>1327.0</td>\n",
              "      <td>0.518182</td>\n",
              "      <td>0.252330</td>\n",
              "      <td>0.0309</td>\n",
              "      <td>0.30600</td>\n",
              "      <td>0.5100</td>\n",
              "      <td>0.72000</td>\n",
              "      <td>0.979</td>\n",
              "    </tr>\n",
              "    <tr>\n",
              "      <th>5</th>\n",
              "      <td>1574.0</td>\n",
              "      <td>53.162008</td>\n",
              "      <td>21.928591</td>\n",
              "      <td>0.0</td>\n",
              "      <td>41.0</td>\n",
              "      <td>55.0</td>\n",
              "      <td>69.0</td>\n",
              "      <td>100.0</td>\n",
              "      <td>1574.0</td>\n",
              "      <td>216964.841804</td>\n",
              "      <td>...</td>\n",
              "      <td>4.0</td>\n",
              "      <td>5.0</td>\n",
              "      <td>1574.0</td>\n",
              "      <td>0.544156</td>\n",
              "      <td>0.246549</td>\n",
              "      <td>0.0336</td>\n",
              "      <td>0.34725</td>\n",
              "      <td>0.5570</td>\n",
              "      <td>0.74600</td>\n",
              "      <td>0.977</td>\n",
              "    </tr>\n",
              "    <tr>\n",
              "      <th>6</th>\n",
              "      <td>1351.0</td>\n",
              "      <td>55.113249</td>\n",
              "      <td>21.995752</td>\n",
              "      <td>0.0</td>\n",
              "      <td>43.0</td>\n",
              "      <td>58.0</td>\n",
              "      <td>70.0</td>\n",
              "      <td>98.0</td>\n",
              "      <td>1351.0</td>\n",
              "      <td>217205.233161</td>\n",
              "      <td>...</td>\n",
              "      <td>4.0</td>\n",
              "      <td>5.0</td>\n",
              "      <td>1351.0</td>\n",
              "      <td>0.514799</td>\n",
              "      <td>0.241854</td>\n",
              "      <td>0.0292</td>\n",
              "      <td>0.31900</td>\n",
              "      <td>0.5210</td>\n",
              "      <td>0.70450</td>\n",
              "      <td>0.979</td>\n",
              "    </tr>\n",
              "    <tr>\n",
              "      <th>7</th>\n",
              "      <td>2032.0</td>\n",
              "      <td>51.031004</td>\n",
              "      <td>20.991934</td>\n",
              "      <td>0.0</td>\n",
              "      <td>39.0</td>\n",
              "      <td>54.0</td>\n",
              "      <td>66.0</td>\n",
              "      <td>94.0</td>\n",
              "      <td>2032.0</td>\n",
              "      <td>218785.203248</td>\n",
              "      <td>...</td>\n",
              "      <td>4.0</td>\n",
              "      <td>5.0</td>\n",
              "      <td>2032.0</td>\n",
              "      <td>0.538865</td>\n",
              "      <td>0.247600</td>\n",
              "      <td>0.0000</td>\n",
              "      <td>0.34375</td>\n",
              "      <td>0.5355</td>\n",
              "      <td>0.74200</td>\n",
              "      <td>0.984</td>\n",
              "    </tr>\n",
              "    <tr>\n",
              "      <th>8</th>\n",
              "      <td>1349.0</td>\n",
              "      <td>52.591549</td>\n",
              "      <td>22.538394</td>\n",
              "      <td>0.0</td>\n",
              "      <td>40.0</td>\n",
              "      <td>55.0</td>\n",
              "      <td>69.0</td>\n",
              "      <td>97.0</td>\n",
              "      <td>1349.0</td>\n",
              "      <td>215147.784285</td>\n",
              "      <td>...</td>\n",
              "      <td>4.0</td>\n",
              "      <td>5.0</td>\n",
              "      <td>1349.0</td>\n",
              "      <td>0.531753</td>\n",
              "      <td>0.248406</td>\n",
              "      <td>0.0243</td>\n",
              "      <td>0.34500</td>\n",
              "      <td>0.5320</td>\n",
              "      <td>0.73200</td>\n",
              "      <td>0.978</td>\n",
              "    </tr>\n",
              "    <tr>\n",
              "      <th>9</th>\n",
              "      <td>1698.0</td>\n",
              "      <td>51.286808</td>\n",
              "      <td>21.467978</td>\n",
              "      <td>0.0</td>\n",
              "      <td>40.0</td>\n",
              "      <td>54.0</td>\n",
              "      <td>67.0</td>\n",
              "      <td>96.0</td>\n",
              "      <td>1698.0</td>\n",
              "      <td>219878.041225</td>\n",
              "      <td>...</td>\n",
              "      <td>4.0</td>\n",
              "      <td>5.0</td>\n",
              "      <td>1698.0</td>\n",
              "      <td>0.537660</td>\n",
              "      <td>0.240180</td>\n",
              "      <td>0.0292</td>\n",
              "      <td>0.34925</td>\n",
              "      <td>0.5365</td>\n",
              "      <td>0.73025</td>\n",
              "      <td>0.982</td>\n",
              "    </tr>\n",
              "    <tr>\n",
              "      <th>10</th>\n",
              "      <td>1331.0</td>\n",
              "      <td>53.550714</td>\n",
              "      <td>21.280746</td>\n",
              "      <td>0.0</td>\n",
              "      <td>41.0</td>\n",
              "      <td>55.0</td>\n",
              "      <td>69.0</td>\n",
              "      <td>96.0</td>\n",
              "      <td>1331.0</td>\n",
              "      <td>218728.129226</td>\n",
              "      <td>...</td>\n",
              "      <td>4.0</td>\n",
              "      <td>5.0</td>\n",
              "      <td>1331.0</td>\n",
              "      <td>0.526909</td>\n",
              "      <td>0.242579</td>\n",
              "      <td>0.0333</td>\n",
              "      <td>0.34500</td>\n",
              "      <td>0.5220</td>\n",
              "      <td>0.72250</td>\n",
              "      <td>0.975</td>\n",
              "    </tr>\n",
              "    <tr>\n",
              "      <th>11</th>\n",
              "      <td>1600.0</td>\n",
              "      <td>54.147500</td>\n",
              "      <td>22.407215</td>\n",
              "      <td>0.0</td>\n",
              "      <td>41.0</td>\n",
              "      <td>57.0</td>\n",
              "      <td>70.0</td>\n",
              "      <td>98.0</td>\n",
              "      <td>1600.0</td>\n",
              "      <td>217445.780625</td>\n",
              "      <td>...</td>\n",
              "      <td>4.0</td>\n",
              "      <td>5.0</td>\n",
              "      <td>1600.0</td>\n",
              "      <td>0.539961</td>\n",
              "      <td>0.229013</td>\n",
              "      <td>0.0000</td>\n",
              "      <td>0.37375</td>\n",
              "      <td>0.5295</td>\n",
              "      <td>0.72100</td>\n",
              "      <td>0.980</td>\n",
              "    </tr>\n",
              "  </tbody>\n",
              "</table>\n",
              "<p>12 rows × 104 columns</p>\n",
              "</div>\n",
              "      <button class=\"colab-df-convert\" onclick=\"convertToInteractive('df-e6091abc-ed45-4a6e-a5e2-7805ea92edcf')\"\n",
              "              title=\"Convert this dataframe to an interactive table.\"\n",
              "              style=\"display:none;\">\n",
              "        \n",
              "  <svg xmlns=\"http://www.w3.org/2000/svg\" height=\"24px\"viewBox=\"0 0 24 24\"\n",
              "       width=\"24px\">\n",
              "    <path d=\"M0 0h24v24H0V0z\" fill=\"none\"/>\n",
              "    <path d=\"M18.56 5.44l.94 2.06.94-2.06 2.06-.94-2.06-.94-.94-2.06-.94 2.06-2.06.94zm-11 1L8.5 8.5l.94-2.06 2.06-.94-2.06-.94L8.5 2.5l-.94 2.06-2.06.94zm10 10l.94 2.06.94-2.06 2.06-.94-2.06-.94-.94-2.06-.94 2.06-2.06.94z\"/><path d=\"M17.41 7.96l-1.37-1.37c-.4-.4-.92-.59-1.43-.59-.52 0-1.04.2-1.43.59L10.3 9.45l-7.72 7.72c-.78.78-.78 2.05 0 2.83L4 21.41c.39.39.9.59 1.41.59.51 0 1.02-.2 1.41-.59l7.78-7.78 2.81-2.81c.8-.78.8-2.07 0-2.86zM5.41 20L4 18.59l7.72-7.72 1.47 1.35L5.41 20z\"/>\n",
              "  </svg>\n",
              "      </button>\n",
              "      \n",
              "  <style>\n",
              "    .colab-df-container {\n",
              "      display:flex;\n",
              "      flex-wrap:wrap;\n",
              "      gap: 12px;\n",
              "    }\n",
              "\n",
              "    .colab-df-convert {\n",
              "      background-color: #E8F0FE;\n",
              "      border: none;\n",
              "      border-radius: 50%;\n",
              "      cursor: pointer;\n",
              "      display: none;\n",
              "      fill: #1967D2;\n",
              "      height: 32px;\n",
              "      padding: 0 0 0 0;\n",
              "      width: 32px;\n",
              "    }\n",
              "\n",
              "    .colab-df-convert:hover {\n",
              "      background-color: #E2EBFA;\n",
              "      box-shadow: 0px 1px 2px rgba(60, 64, 67, 0.3), 0px 1px 3px 1px rgba(60, 64, 67, 0.15);\n",
              "      fill: #174EA6;\n",
              "    }\n",
              "\n",
              "    [theme=dark] .colab-df-convert {\n",
              "      background-color: #3B4455;\n",
              "      fill: #D2E3FC;\n",
              "    }\n",
              "\n",
              "    [theme=dark] .colab-df-convert:hover {\n",
              "      background-color: #434B5C;\n",
              "      box-shadow: 0px 1px 3px 1px rgba(0, 0, 0, 0.15);\n",
              "      filter: drop-shadow(0px 1px 2px rgba(0, 0, 0, 0.3));\n",
              "      fill: #FFFFFF;\n",
              "    }\n",
              "  </style>\n",
              "\n",
              "      <script>\n",
              "        const buttonEl =\n",
              "          document.querySelector('#df-e6091abc-ed45-4a6e-a5e2-7805ea92edcf button.colab-df-convert');\n",
              "        buttonEl.style.display =\n",
              "          google.colab.kernel.accessAllowed ? 'block' : 'none';\n",
              "\n",
              "        async function convertToInteractive(key) {\n",
              "          const element = document.querySelector('#df-e6091abc-ed45-4a6e-a5e2-7805ea92edcf');\n",
              "          const dataTable =\n",
              "            await google.colab.kernel.invokeFunction('convertToInteractive',\n",
              "                                                     [key], {});\n",
              "          if (!dataTable) return;\n",
              "\n",
              "          const docLinkHtml = 'Like what you see? Visit the ' +\n",
              "            '<a target=\"_blank\" href=https://colab.research.google.com/notebooks/data_table.ipynb>data table notebook</a>'\n",
              "            + ' to learn more about interactive tables.';\n",
              "          element.innerHTML = '';\n",
              "          dataTable['output_type'] = 'display_data';\n",
              "          await google.colab.output.renderOutput(dataTable, element);\n",
              "          const docLink = document.createElement('div');\n",
              "          docLink.innerHTML = docLinkHtml;\n",
              "          element.appendChild(docLink);\n",
              "        }\n",
              "      </script>\n",
              "    </div>\n",
              "  </div>\n",
              "  "
            ]
          },
          "metadata": {},
          "execution_count": 12
        }
      ]
    },
    {
      "cell_type": "markdown",
      "source": [
        "**CORELATION VIEWED BY PLOTTING HEATMAP**"
      ],
      "metadata": {
        "id": "2wb3KcFU0BV_"
      }
    },
    {
      "cell_type": "code",
      "source": [
        "fig, ax = plt.subplots(figsize=(10, 8))\n",
        "sns.heatmap(df.corr(), annot=True, ax=ax, cmap=\"YlGnBu\")\n",
        "plt.show()"
      ],
      "metadata": {
        "colab": {
          "base_uri": "https://localhost:8080/",
          "height": 843
        },
        "id": "YiaH47dajiLr",
        "outputId": "ec29d9f5-1396-4bee-d600-8a396548775b"
      },
      "execution_count": null,
      "outputs": [
        {
          "output_type": "stream",
          "name": "stderr",
          "text": [
            "<ipython-input-13-5d904f76ddce>:2: FutureWarning: The default value of numeric_only in DataFrame.corr is deprecated. In a future version, it will default to False. Select only valid columns or specify the value of numeric_only to silence this warning.\n",
            "  sns.heatmap(df.corr(), annot=True, ax=ax, cmap=\"YlGnBu\")\n"
          ]
        },
        {
          "output_type": "display_data",
          "data": {
            "text/plain": [
              "<Figure size 1000x800 with 2 Axes>"
            ],
            "image/png": "[encoded data removed]"
          },
          "metadata": {}
        }
      ]
    },
    {
      "cell_type": "markdown",
      "source": [
        "**CHECKING OUTLIERS OF ALL ATTRIBUTES**"
      ],
      "metadata": {
        "id": "yQru8E4Bpx5m"
      }
    },
    {
      "cell_type": "code",
      "source": [
        "sns.boxplot(x=df['Popularity'])"
      ],
      "metadata": {
        "colab": {
          "base_uri": "https://localhost:8080/",
          "height": 466
        },
        "id": "AytXDfC-lbfj",
        "outputId": "0cf6d66b-9f85-48b1-cf4b-b1f1aabba9eb"
      },
      "execution_count": null,
      "outputs": [
        {
          "output_type": "execute_result",
          "data": {
            "text/plain": [
              "<Axes: xlabel='Popularity'>"
            ]
          },
          "metadata": {},
          "execution_count": 14
        },
        {
          "output_type": "display_data",
          "data": {
            "text/plain": [
              "<Figure size 640x480 with 1 Axes>"
            ],
            "image/png": "[encoded data removed]"
          },
          "metadata": {}
        }
      ]
    },
    {
      "cell_type": "code",
      "source": [
        "sns.boxplot(x=df['Duration (ms)'])"
      ],
      "metadata": {
        "colab": {
          "base_uri": "https://localhost:8080/",
          "height": 466
        },
        "id": "KvpwyvDsooSq",
        "outputId": "679f0431-07e0-4709-e304-68877cc67525"
      },
      "execution_count": null,
      "outputs": [
        {
          "output_type": "execute_result",
          "data": {
            "text/plain": [
              "<Axes: xlabel='Duration (ms)'>"
            ]
          },
          "metadata": {},
          "execution_count": 15
        },
        {
          "output_type": "display_data",
          "data": {
            "text/plain": [
              "<Figure size 640x480 with 1 Axes>"
            ],
            "image/png": "[encoded data removed]"
          },
          "metadata": {}
        }
      ]
    },
    {
      "cell_type": "code",
      "source": [
        "sns.boxplot(x=df['acousticness'])"
      ],
      "metadata": {
        "colab": {
          "base_uri": "https://localhost:8080/",
          "height": 466
        },
        "id": "AaRCtQVeoZtS",
        "outputId": "3e999c99-b99d-406b-8e6e-ff50eae96be0"
      },
      "execution_count": null,
      "outputs": [
        {
          "output_type": "execute_result",
          "data": {
            "text/plain": [
              "<Axes: xlabel='acousticness'>"
            ]
          },
          "metadata": {},
          "execution_count": 16
        },
        {
          "output_type": "display_data",
          "data": {
            "text/plain": [
              "<Figure size 640x480 with 1 Axes>"
            ],
            "image/png": "[encoded data removed]"
          },
          "metadata": {}
        }
      ]
    },
    {
      "cell_type": "code",
      "source": [
        "sns.boxplot(x=df['danceability'])"
      ],
      "metadata": {
        "colab": {
          "base_uri": "https://localhost:8080/",
          "height": 466
        },
        "id": "45nispg-owuI",
        "outputId": "5c58140f-4268-419c-c62d-2fd8b5303d2d"
      },
      "execution_count": null,
      "outputs": [
        {
          "output_type": "execute_result",
          "data": {
            "text/plain": [
              "<Axes: xlabel='danceability'>"
            ]
          },
          "metadata": {},
          "execution_count": 17
        },
        {
          "output_type": "display_data",
          "data": {
            "text/plain": [
              "<Figure size 640x480 with 1 Axes>"
            ],
            "image/png": "[encoded data removed]"
          },
          "metadata": {}
        }
      ]
    },
    {
      "cell_type": "code",
      "source": [
        "sns.boxplot(x=df['energy'])"
      ],
      "metadata": {
        "colab": {
          "base_uri": "https://localhost:8080/",
          "height": 466
        },
        "id": "6RvWKE7jo4Ju",
        "outputId": "6bbe5200-22a7-47bc-a715-73b7e655af80"
      },
      "execution_count": null,
      "outputs": [
        {
          "output_type": "execute_result",
          "data": {
            "text/plain": [
              "<Axes: xlabel='energy'>"
            ]
          },
          "metadata": {},
          "execution_count": 15
        },
        {
          "output_type": "display_data",
          "data": {
            "text/plain": [
              "<Figure size 640x480 with 1 Axes>"
            ],
            "image/png": "[encoded data removed]"
          },
          "metadata": {}
        }
      ]
    },
    {
      "cell_type": "code",
      "source": [
        "sns.boxplot(x=df['instrumentalness'])"
      ],
      "metadata": {
        "colab": {
          "base_uri": "https://localhost:8080/",
          "height": 466
        },
        "id": "0onYmQUgo-Zk",
        "outputId": "7635ac4d-fcc7-4dd7-a846-d20477374afc"
      },
      "execution_count": null,
      "outputs": [
        {
          "output_type": "execute_result",
          "data": {
            "text/plain": [
              "<Axes: xlabel='instrumentalness'>"
            ]
          },
          "metadata": {},
          "execution_count": 18
        },
        {
          "output_type": "display_data",
          "data": {
            "text/plain": [
              "<Figure size 640x480 with 1 Axes>"
            ],
            "image/png": "[encoded data removed]"
          },
          "metadata": {}
        }
      ]
    },
    {
      "cell_type": "code",
      "source": [
        "sns.boxplot(x=df['key'])"
      ],
      "metadata": {
        "colab": {
          "base_uri": "https://localhost:8080/",
          "height": 466
        },
        "id": "zQBnu2UWpBBV",
        "outputId": "5a0013f5-0372-47b7-8c1b-558f21303830"
      },
      "execution_count": null,
      "outputs": [
        {
          "output_type": "execute_result",
          "data": {
            "text/plain": [
              "<Axes: xlabel='key'>"
            ]
          },
          "metadata": {},
          "execution_count": 19
        },
        {
          "output_type": "display_data",
          "data": {
            "text/plain": [
              "<Figure size 640x480 with 1 Axes>"
            ],
            "image/png": "[encoded data removed]"
          },
          "metadata": {}
        }
      ]
    },
    {
      "cell_type": "code",
      "source": [
        "sns.boxplot(x=df['Spiritedness'])"
      ],
      "metadata": {
        "colab": {
          "base_uri": "https://localhost:8080/",
          "height": 466
        },
        "id": "QnXiYBx9pJ8J",
        "outputId": "d42907ef-d35f-4a87-8145-d1c1825c31d2"
      },
      "execution_count": null,
      "outputs": [
        {
          "output_type": "execute_result",
          "data": {
            "text/plain": [
              "<Axes: xlabel='Spiritedness'>"
            ]
          },
          "metadata": {},
          "execution_count": 20
        },
        {
          "output_type": "display_data",
          "data": {
            "text/plain": [
              "<Figure size 640x480 with 1 Axes>"
            ],
            "image/png": "[encoded data removed]"
          },
          "metadata": {}
        }
      ]
    },
    {
      "cell_type": "code",
      "source": [
        "sns.boxplot(x=df['loudness'])"
      ],
      "metadata": {
        "colab": {
          "base_uri": "https://localhost:8080/",
          "height": 466
        },
        "id": "sQce9O1CpNVg",
        "outputId": "153be53e-a1d2-4bc2-83da-02e9705d83b0"
      },
      "execution_count": null,
      "outputs": [
        {
          "output_type": "execute_result",
          "data": {
            "text/plain": [
              "<Axes: xlabel='loudness'>"
            ]
          },
          "metadata": {},
          "execution_count": 21
        },
        {
          "output_type": "display_data",
          "data": {
            "text/plain": [
              "<Figure size 640x480 with 1 Axes>"
            ],
            "image/png": "[encoded data removed]"
          },
          "metadata": {}
        }
      ]
    },
    {
      "cell_type": "code",
      "source": [
        "sns.boxplot(x=df['Mode'])"
      ],
      "metadata": {
        "colab": {
          "base_uri": "https://localhost:8080/",
          "height": 466
        },
        "id": "hTkhtPAbpVfH",
        "outputId": "f1adaf97-3329-4e09-91bc-85c989ebd13b"
      },
      "execution_count": null,
      "outputs": [
        {
          "output_type": "execute_result",
          "data": {
            "text/plain": [
              "<Axes: xlabel='Mode'>"
            ]
          },
          "metadata": {},
          "execution_count": 22
        },
        {
          "output_type": "display_data",
          "data": {
            "text/plain": [
              "<Figure size 640x480 with 1 Axes>"
            ],
            "image/png": "[encoded data removed]"
          },
          "metadata": {}
        }
      ]
    },
    {
      "cell_type": "code",
      "source": [
        "sns.boxplot(x=df['speechiness'])"
      ],
      "metadata": {
        "colab": {
          "base_uri": "https://localhost:8080/",
          "height": 466
        },
        "id": "g_ahnS_4pbAO",
        "outputId": "3d1cfb99-e0c6-494f-cb4b-3b083ae8bd13"
      },
      "execution_count": null,
      "outputs": [
        {
          "output_type": "execute_result",
          "data": {
            "text/plain": [
              "<Axes: xlabel='speechiness'>"
            ]
          },
          "metadata": {},
          "execution_count": 23
        },
        {
          "output_type": "display_data",
          "data": {
            "text/plain": [
              "<Figure size 640x480 with 1 Axes>"
            ],
            "image/png": "[encoded data removed]"
          },
          "metadata": {}
        }
      ]
    },
    {
      "cell_type": "code",
      "source": [
        "sns.boxplot(x=df['tempo'])"
      ],
      "metadata": {
        "colab": {
          "base_uri": "https://localhost:8080/",
          "height": 466
        },
        "id": "p2RVQlH2pgEy",
        "outputId": "5f660a69-3d9d-46d4-ba8a-195e5da9b369"
      },
      "execution_count": null,
      "outputs": [
        {
          "output_type": "execute_result",
          "data": {
            "text/plain": [
              "<Axes: xlabel='tempo'>"
            ]
          },
          "metadata": {},
          "execution_count": 24
        },
        {
          "output_type": "display_data",
          "data": {
            "text/plain": [
              "<Figure size 640x480 with 1 Axes>"
            ],
            "image/png": "[encoded data removed]"
          },
          "metadata": {}
        }
      ]
    },
    {
      "cell_type": "code",
      "source": [
        "sns.boxplot(x=df['time_signature'])"
      ],
      "metadata": {
        "colab": {
          "base_uri": "https://localhost:8080/",
          "height": 467
        },
        "id": "WEn9sjsapkXo",
        "outputId": "c57bb048-76c5-4072-8289-21c9ff5362b9"
      },
      "execution_count": null,
      "outputs": [
        {
          "output_type": "execute_result",
          "data": {
            "text/plain": [
              "<Axes: xlabel='time_signature'>"
            ]
          },
          "metadata": {},
          "execution_count": 25
        },
        {
          "output_type": "display_data",
          "data": {
            "text/plain": [
              "<Figure size 640x480 with 1 Axes>"
            ],
            "image/png": "[encoded data removed]"
          },
          "metadata": {}
        }
      ]
    },
    {
      "cell_type": "code",
      "source": [
        "sns.boxplot(x=df['audio_valence'])"
      ],
      "metadata": {
        "colab": {
          "base_uri": "https://localhost:8080/",
          "height": 467
        },
        "id": "ux9TiAIVpqwG",
        "outputId": "582523c4-f3e2-4ac9-d70f-f903fe298c98"
      },
      "execution_count": null,
      "outputs": [
        {
          "output_type": "execute_result",
          "data": {
            "text/plain": [
              "<Axes: xlabel='audio_valence'>"
            ]
          },
          "metadata": {},
          "execution_count": 26
        },
        {
          "output_type": "display_data",
          "data": {
            "text/plain": [
              "<Figure size 640x480 with 1 Axes>"
            ],
            "image/png": "[encoded data removed]"
          },
          "metadata": {}
        }
      ]
    },
    {
      "cell_type": "markdown",
      "source": [
        "**REMOVING OUTLIERS USING Z-SCORE CALCULATIONS and THEN REPLACING THEM WITH MEAN VALUES**\n",
        "\n",
        "---\n",
        "\n"
      ],
      "metadata": {
        "id": "GyQiWwJRyupw"
      }
    },
    {
      "cell_type": "code",
      "source": [
        "\n",
        "columns_to_check = df.columns[1:]\n",
        "z_scores = df[columns_to_check].apply(lambda x: np.abs((x - x.mean()) / x.std()))\n",
        "threshold = 3\n",
        "\n",
        "df[columns_to_check] = np.where((z_scores > threshold) | (z_scores < -threshold), np.nan, df[columns_to_check])\n",
        "df[columns_to_check] = df[columns_to_check].mask((df[columns_to_check] < -threshold) | (df[columns_to_check] > threshold), 0)\n"
      ],
      "metadata": {
        "id": "ZnIfHqYJybjW"
      },
      "execution_count": null,
      "outputs": []
    },
    {
      "cell_type": "code",
      "source": [
        "df.info()"
      ],
      "metadata": {
        "colab": {
          "base_uri": "https://localhost:8080/"
        },
        "id": "0cAUTpQ0yfrQ",
        "outputId": "23634915-b836-41fb-dc6e-0847364eec84"
      },
      "execution_count": null,
      "outputs": [
        {
          "output_type": "stream",
          "name": "stdout",
          "text": [
            "<class 'pandas.core.frame.DataFrame'>\n",
            "Int64Index: 18835 entries, 10479 to 5593\n",
            "Data columns (total 15 columns):\n",
            " #   Column            Non-Null Count  Dtype  \n",
            "---  ------            --------------  -----  \n",
            " 0   Name              18835 non-null  object \n",
            " 1   Popularity        18835 non-null  float64\n",
            " 2   Duration (ms)     18599 non-null  float64\n",
            " 3   acousticness      18835 non-null  float64\n",
            " 4   danceability      18773 non-null  float64\n",
            " 5   energy            18828 non-null  float64\n",
            " 6   instrumentalness  17799 non-null  float64\n",
            " 7   key               18835 non-null  float64\n",
            " 8   Spiritedness      18316 non-null  float64\n",
            " 9   loudness          18505 non-null  float64\n",
            " 10  Mode              18835 non-null  float64\n",
            " 11  speechiness       18474 non-null  float64\n",
            " 12  tempo             18810 non-null  float64\n",
            " 13  time_signature    17754 non-null  float64\n",
            " 14  audio_valence     18835 non-null  float64\n",
            "dtypes: float64(14), object(1)\n",
            "memory usage: 2.3+ MB\n"
          ]
        }
      ]
    },
    {
      "cell_type": "code",
      "source": [
        "df=df.fillna(df.mean())"
      ],
      "metadata": {
        "colab": {
          "base_uri": "https://localhost:8080/"
        },
        "id": "JjKMK3tPzH4k",
        "outputId": "5c58e174-63a4-436f-d0d8-5fea4b743353"
      },
      "execution_count": null,
      "outputs": [
        {
          "output_type": "stream",
          "name": "stderr",
          "text": [
            "<ipython-input-29-6f8c6f28e805>:1: FutureWarning: The default value of numeric_only in DataFrame.mean is deprecated. In a future version, it will default to False. In addition, specifying 'numeric_only=None' is deprecated. Select only valid columns or specify the value of numeric_only to silence this warning.\n",
            "  df=df.fillna(df.mean())\n"
          ]
        }
      ]
    },
    {
      "cell_type": "code",
      "source": [
        "df.isnull().sum()"
      ],
      "metadata": {
        "colab": {
          "base_uri": "https://localhost:8080/"
        },
        "id": "GUFDukAt1SXu",
        "outputId": "7442296e-ac12-4f5a-ef2f-5e3ad002b0da"
      },
      "execution_count": null,
      "outputs": [
        {
          "output_type": "execute_result",
          "data": {
            "text/plain": [
              "Name                0\n",
              "Popularity          0\n",
              "Duration (ms)       0\n",
              "acousticness        0\n",
              "danceability        0\n",
              "energy              0\n",
              "instrumentalness    0\n",
              "key                 0\n",
              "Spiritedness        0\n",
              "loudness            0\n",
              "Mode                0\n",
              "speechiness         0\n",
              "tempo               0\n",
              "time_signature      0\n",
              "audio_valence       0\n",
              "dtype: int64"
            ]
          },
          "metadata": {},
          "execution_count": 30
        }
      ]
    },
    {
      "cell_type": "markdown",
      "source": [
        "**ORDINAL ENCODING DONE FOR NAME COLUMN**"
      ],
      "metadata": {
        "id": "0UR1lhCgFc9K"
      }
    },
    {
      "cell_type": "code",
      "source": [
        "# Assuming 'data' is your DataFrame\n",
        "df1 = df.copy()\n",
        "df1 = df1.astype(str)\n",
        "\n",
        "# Iterate over categorical columns and apply ordinal encoding\n",
        "for col in df1.columns:\n",
        "    if df1[col].dtype == 'object':\n",
        "        oe = OrdinalEncoder()\n",
        "        df1[col] = oe.fit_transform(df1[[col]])"
      ],
      "metadata": {
        "id": "3csUZeY_D3op"
      },
      "execution_count": null,
      "outputs": []
    },
    {
      "cell_type": "markdown",
      "source": [
        "**PRINCIPAL COMPONENT ANALYSIS**"
      ],
      "metadata": {
        "id": "98GXOTJNFlpl"
      }
    },
    {
      "cell_type": "code",
      "source": [
        "# First, scale your data\n",
        "scaler = StandardScaler()\n",
        "scaled_data = scaler.fit_transform(df1)\n",
        "\n",
        "# Create PCA object with desired number of components\n",
        "n_components = 2  # Set the number of principal components you want to keep\n",
        "pca = PCA(n_components=n_components)\n",
        "\n",
        "# Perform PCA on the scaled data\n",
        "principal_components = pca.fit_transform(scaled_data)\n",
        "\n",
        "# Access the explained variance ratio of each principal component\n",
        "explained_variance_ratio = pca.explained_variance_ratio_\n",
        "\n",
        "# Access the eigenvalues of each principal component\n",
        "eigenvalues = pca.singular_values_\n",
        "\n",
        "# Access the feature contributions for each principal component\n",
        "feature_contributions = pca.components_\n",
        "\n",
        "\n",
        "# Print the feature contributions for each principal component\n",
        "for i in range(n_components):\n",
        "    print(f\"Principal Component {i+1} Feature Contributions:\")\n",
        "    for j in range(len(df1.columns)):\n",
        "        print(f\"Feature {j+1}: {pca.components_[i, j]}\")\n",
        "\n",
        "\n",
        "# You can access the transformed data (projected onto the principal components) using 'principal_components'\n",
        "print(\"Transformed data shape:\", principal_components.shape)\n"
      ],
      "metadata": {
        "colab": {
          "base_uri": "https://localhost:8080/"
        },
        "id": "OGkEGnFZHKby",
        "outputId": "0d577339-8bc7-46ae-e214-3471242de733"
      },
      "execution_count": null,
      "outputs": [
        {
          "output_type": "stream",
          "name": "stdout",
          "text": [
            "Principal Component 1 Feature Contributions:\n",
            "Feature 1: 0.0499695491436446\n",
            "Feature 2: -0.04913296301210225\n",
            "Feature 3: 0.0\n",
            "Feature 4: 0.421659603377891\n",
            "Feature 5: -0.3703197459905471\n",
            "Feature 6: -0.5406519970729255\n",
            "Feature 7: 0.10961565121638456\n",
            "Feature 8: 0.054535093744319044\n",
            "Feature 9: 0.03456206342127291\n",
            "Feature 10: -0.24462060937688723\n",
            "Feature 11: 0.15616628525735265\n",
            "Feature 12: -0.3310794166740656\n",
            "Feature 13: 0.0\n",
            "Feature 14: 0.0\n",
            "Feature 15: -0.4216941353354541\n",
            "Principal Component 2 Feature Contributions:\n",
            "Feature 1: -0.05397474095707327\n",
            "Feature 2: 0.10387555510671585\n",
            "Feature 3: -0.0\n",
            "Feature 4: -0.4913846773754028\n",
            "Feature 5: -0.5337494331808378\n",
            "Feature 6: 0.4053383878515644\n",
            "Feature 7: 0.237271158022743\n",
            "Feature 8: 0.08277631301195744\n",
            "Feature 9: 0.21429434960070307\n",
            "Feature 10: 0.059326696108986984\n",
            "Feature 11: 0.24632268033580784\n",
            "Feature 12: -0.30160127473635384\n",
            "Feature 13: -0.0\n",
            "Feature 14: -0.0\n",
            "Feature 15: -0.17725854508563152\n",
            "Transformed data shape: (18835, 2)\n"
          ]
        }
      ]
    },
    {
      "cell_type": "markdown",
      "source": [
        "**WRAPPER METHOD USING FORWARD SELECTION** **(FEATURE ENGINEERING)**"
      ],
      "metadata": {
        "id": "hMthjgDIKGo2"
      }
    },
    {
      "cell_type": "code",
      "source": [
        "X =df1.drop([ 'Popularity'], axis=1)\n",
        "y = df1['Popularity']"
      ],
      "metadata": {
        "id": "AmS6gpUIGg18"
      },
      "execution_count": null,
      "outputs": []
    },
    {
      "cell_type": "code",
      "source": [
        "sfs = SFS(LinearRegression(),\n",
        "          k_features=5,\n",
        "          forward=True,\n",
        "          floating=False,\n",
        "          scoring = 'r2',\n",
        "          cv = 0)"
      ],
      "metadata": {
        "id": "tHsFV7Z8GVb-"
      },
      "execution_count": null,
      "outputs": []
    },
    {
      "cell_type": "code",
      "source": [
        "sfs.fit(X, y)\n",
        "sfs.k_feature_names_"
      ],
      "metadata": {
        "colab": {
          "base_uri": "https://localhost:8080/"
        },
        "id": "uIha3uxEGZMA",
        "outputId": "1d9fb8b6-c037-4afc-dd09-64ed28192464"
      },
      "execution_count": null,
      "outputs": [
        {
          "output_type": "execute_result",
          "data": {
            "text/plain": [
              "('danceability', 'energy', 'instrumentalness', 'Spiritedness', 'Mode')"
            ]
          },
          "metadata": {},
          "execution_count": 39
        }
      ]
    },
    {
      "cell_type": "markdown",
      "source": [
        "**WRAPPER METHOD USING BACKWARD ELIMINATION** **(FEATURE ENGINEERING)**"
      ],
      "metadata": {
        "id": "tSOq4IToNV5d"
      }
    },
    {
      "cell_type": "code",
      "source": [
        "\n",
        "# Assuming you have your feature matrix 'X' and target vector 'y'\n",
        "X = df1[['Name', 'Duration (ms)', 'acousticness', 'danceability', 'energy', 'instrumentalness', 'key', 'Spiritedness', 'loudness', 'Mode', 'speechiness', 'tempo', 'time_signature', 'audio_valence']]\n",
        "y = df1['Popularity']  # Target Feature\n",
        "\n",
        "# Convert data to numpy arrays if they are not already\n",
        "X = np.array(X)\n",
        "y = np.array(y)\n",
        "\n",
        "# Create an instance of the estimator/model\n",
        "estimator = LinearRegression()\n",
        "\n",
        "# Specify the number of features to select\n",
        "n_features_to_select = 5\n",
        "\n",
        "# Perform backward feature selection\n",
        "selector = RFE(estimator, n_features_to_select=n_features_to_select, step=1)\n",
        "selector = selector.fit(X, y)\n",
        "\n",
        "# Get the selected feature indices and mask\n",
        "selected_feature_indices = selector.get_support(indices=True)\n",
        "\n",
        "# Print the selected feature names\n",
        "print(\"Selected Features:\")\n",
        "for index in selected_feature_indices:\n",
        "    print(df1.columns[index])\n"
      ],
      "metadata": {
        "colab": {
          "base_uri": "https://localhost:8080/"
        },
        "id": "e25k3nXELGHl",
        "outputId": "52e71214-8132-4c20-c8c6-d1db65f9c0a7"
      },
      "execution_count": null,
      "outputs": [
        {
          "output_type": "stream",
          "name": "stdout",
          "text": [
            "Selected Features:\n",
            "acousticness\n",
            "danceability\n",
            "instrumentalness\n",
            "Spiritedness\n",
            "loudness\n"
          ]
        }
      ]
    },
    {
      "cell_type": "markdown",
      "source": [
        "**MULTIVARIBALE LINEAR REGRESSION FOR FORWARD SELECTION WITH ERROR CALCULATION**"
      ],
      "metadata": {
        "id": "ZElXFLHxzSi0"
      }
    },
    {
      "cell_type": "code",
      "source": [
        "x = df1[['danceability','energy','instrumentalness','Spiritedness','Mode']]\n",
        "\n",
        "y= df1[['Popularity']]\n",
        "\n",
        "# Taking only the selected two attributes from the dataset\n",
        "x.columns = [ 'Danceability','Energy','Instrumentalness','Spiritedness','Mode']\n",
        "\n",
        "y.columns=['Popularity']"
      ],
      "metadata": {
        "id": "JFFWUDlcuTlJ"
      },
      "execution_count": null,
      "outputs": []
    },
    {
      "cell_type": "code",
      "source": [
        "l=LinearRegression()\n",
        "l.fit(x,y)\n",
        "y_pred=l.predict(x)\n",
        "print(y_pred)"
      ],
      "metadata": {
        "colab": {
          "base_uri": "https://localhost:8080/"
        },
        "id": "YZL-WiNuu6uh",
        "outputId": "8f05c5a1-86ed-4576-cab3-453ef2eb959d"
      },
      "execution_count": null,
      "outputs": [
        {
          "output_type": "stream",
          "name": "stdout",
          "text": [
            "[[0.03949506]\n",
            " [0.04263946]\n",
            " [0.01447441]\n",
            " ...\n",
            " [0.00456435]\n",
            " [0.01144137]\n",
            " [0.0095227 ]]\n"
          ]
        }
      ]
    },
    {
      "cell_type": "code",
      "source": [
        "truevalues0=df['Popularity']\n",
        "predictedvalues0=y_pred\n",
        "mse = mean_squared_error(truevalues0, predictedvalues0)\n",
        "rmse = np.sqrt(mse)\n",
        "max_err = max_error(truevalues0, predictedvalues0)\n",
        "\n",
        "print(\"Maximum Error:\", max_err)\n",
        "print(\"Mean Squared Error (MSE):\", mse)\n",
        "print(\"Root Mean Squared Error (RMSE):\", rmse)\n"
      ],
      "metadata": {
        "colab": {
          "base_uri": "https://localhost:8080/"
        },
        "id": "GzBV2GVRvHPJ",
        "outputId": "bb6e7f80-a8a4-4417-9dc9-b60b5ae55497"
      },
      "execution_count": null,
      "outputs": [
        {
          "output_type": "stream",
          "name": "stdout",
          "text": [
            "Maximum Error: 2.99305931591501\n",
            "Mean Squared Error (MSE): 0.0612093628940813\n",
            "Root Mean Squared Error (RMSE): 0.24740526044140876\n"
          ]
        }
      ]
    },
    {
      "cell_type": "markdown",
      "source": [
        "**MULTIVARIABLE LINEAR REGRESSION FOR BACKWARD ELIMINATION WITH ERROR CALCULATION**"
      ],
      "metadata": {
        "id": "ujXXY0RQzdEK"
      }
    },
    {
      "cell_type": "code",
      "source": [
        "x = df1[['acousticness','danceability','instrumentalness','Spiritedness','loudness']]\n",
        "\n",
        "y= df1[['Popularity']]\n",
        "\n",
        "# Taking only the selected two attributes from the dataset\n",
        "x.columns = [ 'Danceability','Energy','Instrumentalness','Spiritedness','Mode']\n",
        "\n",
        "y.columns=['Popularity']"
      ],
      "metadata": {
        "id": "-_JmEhHevOle"
      },
      "execution_count": null,
      "outputs": []
    },
    {
      "cell_type": "code",
      "source": [
        "l=LinearRegression()\n",
        "l.fit(x,y)\n",
        "y_pred1=l.predict(x)\n",
        "print(y_pred1)"
      ],
      "metadata": {
        "colab": {
          "base_uri": "https://localhost:8080/"
        },
        "id": "xqtEOOdAvejz",
        "outputId": "2f43c2dc-242b-44fb-c36b-866bd9e63d7c"
      },
      "execution_count": null,
      "outputs": [
        {
          "output_type": "stream",
          "name": "stdout",
          "text": [
            "[[0.04797251]\n",
            " [0.03492478]\n",
            " [0.03522448]\n",
            " ...\n",
            " [0.01583407]\n",
            " [0.02037099]\n",
            " [0.01679566]]\n"
          ]
        }
      ]
    },
    {
      "cell_type": "code",
      "source": [
        "truevalues=df['Popularity']\n",
        "predictedvalues=y_pred1\n",
        "mse = mean_squared_error(truevalues, predictedvalues)\n",
        "rmse = np.sqrt(mse)\n",
        "\n",
        "\n",
        "max_err = max_error(truevalues, predictedvalues)\n",
        "\n",
        "print(\"Maximum Error:\", max_err)\n",
        "print(\"Mean Squared Error (MSE):\", mse)\n",
        "print(\"Root Mean Squared Error (RMSE):\", rmse)"
      ],
      "metadata": {
        "colab": {
          "base_uri": "https://localhost:8080/"
        },
        "id": "iA-ksd2Cwjhp",
        "outputId": "ee75b321-26e4-408b-9e1f-2ed22a1fb26d"
      },
      "execution_count": null,
      "outputs": [
        {
          "output_type": "stream",
          "name": "stdout",
          "text": [
            "Maximum Error: 2.9860874956106533\n",
            "Mean Squared Error (MSE): 0.06130427409424847\n",
            "Root Mean Squared Error (RMSE): 0.24759699936438742\n"
          ]
        }
      ]
    }
  ]
}